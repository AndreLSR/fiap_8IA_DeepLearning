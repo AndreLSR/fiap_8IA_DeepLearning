{
 "cells": [
  {
   "cell_type": "code",
   "execution_count": 1,
   "metadata": {},
   "outputs": [],
   "source": [
    "import os\n",
    "os.environ[\"KERAS_BACKEND\"] = \"plaidml.keras.backend\""
   ]
  },
  {
   "cell_type": "code",
   "execution_count": 2,
   "metadata": {},
   "outputs": [
    {
     "name": "stderr",
     "output_type": "stream",
     "text": [
      "Using plaidml.keras.backend backend.\n"
     ]
    }
   ],
   "source": [
    "import numpy as np\n",
    "import pandas as pd\n",
    "import tensorflow as tf\n",
    "import keras\n",
    "import matplotlib.pyplot as plt\n",
    "\n",
    "\n",
    "from sklearn.preprocessing import MinMaxScaler,StandardScaler\n",
    "from keras.models import Sequential\n",
    "from keras.layers import Activation,Conv2D,MaxPooling2D,GlobalAveragePooling2D,BatchNormalization,Flatten,Dropout,Dense\n",
    "from keras.layers.convolutional import Conv2D\n",
    "from keras.layers.convolutional import MaxPooling2D, AveragePooling2D\n",
    "from keras.utils import np_utils\n",
    "from keras import backend as K\n",
    "from keras.callbacks import TensorBoard as tb\n",
    "from keras.preprocessing.image import img_to_array, load_img\n",
    "from keras import preprocessing\n",
    "from keras import optimizers\n",
    "from keras.callbacks import EarlyStopping, ModelCheckpoint, ReduceLROnPlateau\n",
    "\n",
    "import cv2\n",
    "\n",
    "import warnings\n",
    "warnings.filterwarnings('ignore')\n",
    "\n",
    "import os\n",
    "os.environ['TF_CPP_MIN_LOG_LEVEL'] = '3' \n",
    "\n",
    "# 0 = all messages are logged (default behavior)\n",
    "# 1 = INFO messages are not printed\n",
    "# 2 = INFO and WARNING messages are not printed\n",
    "# 3 = INFO, WARNING, and ERROR messages are not printed"
   ]
  },
  {
   "cell_type": "markdown",
   "metadata": {},
   "source": [
    "## 1) Importing and separating train, validation and test datasets"
   ]
  },
  {
   "cell_type": "code",
   "execution_count": 3,
   "metadata": {},
   "outputs": [],
   "source": [
    "(X_train, y_train), (X_test, y_test) = tf.keras.datasets.fashion_mnist.load_data() "
   ]
  },
  {
   "cell_type": "code",
   "execution_count": 4,
   "metadata": {},
   "outputs": [
    {
     "data": {
      "text/plain": [
       "(60000, 28, 28)"
      ]
     },
     "execution_count": 4,
     "metadata": {},
     "output_type": "execute_result"
    }
   ],
   "source": [
    "X_train.shape"
   ]
  },
  {
   "cell_type": "code",
   "execution_count": 5,
   "metadata": {},
   "outputs": [
    {
     "data": {
      "text/plain": [
       "(60000,)"
      ]
     },
     "execution_count": 5,
     "metadata": {},
     "output_type": "execute_result"
    }
   ],
   "source": [
    "y_train.shape"
   ]
  },
  {
   "cell_type": "code",
   "execution_count": 6,
   "metadata": {},
   "outputs": [],
   "source": [
    "class_names = ['T-shirt/top', 'Trouser', 'Pullover', 'Dress','Coat',\n",
    "               'Sandal', 'Shirt', 'Sneaker', 'Bag', 'Ankle boot']"
   ]
  },
  {
   "cell_type": "markdown",
   "metadata": {},
   "source": [
    "## 2) Visualizing Six Train Image Samples"
   ]
  },
  {
   "cell_type": "code",
   "execution_count": 9,
   "metadata": {},
   "outputs": [
    {
     "data": {
      "image/png": "[encoded data removed]",
      "text/plain": [
       "<Figure size 432x288 with 4 Axes>"
      ]
     },
     "metadata": {
      "needs_background": "light"
     },
     "output_type": "display_data"
    }
   ],
   "source": [
    "# Plota 4 imagens de exemplo em escala de cinza\n",
    "plt.subplot(221)\n",
    "plt.imshow(X_train[10], cmap=plt.get_cmap('gray'))\n",
    "plt.subplot(222)\n",
    "plt.imshow(X_train[21], cmap=plt.get_cmap('gray'))\n",
    "plt.subplot(223)\n",
    "plt.imshow(X_train[62], cmap=plt.get_cmap('gray'))\n",
    "plt.subplot(224)\n",
    "plt.imshow(X_train[36], cmap=plt.get_cmap('gray'))\n",
    "#Mostra o as imagens\n",
    "plt.show()"
   ]
  },
  {
   "cell_type": "markdown",
   "metadata": {},
   "source": [
    "## 3) Apenas ajusta a matriz para as dimensões esperadas do TensorFlow"
   ]
  },
  {
   "cell_type": "code",
   "execution_count": 7,
   "metadata": {},
   "outputs": [],
   "source": [
    "X_train = X_train.reshape(X_train.shape[0], 28,28,1).astype('float32')\n",
    "X_test = X_test.reshape(X_test.shape[0], 28,28,1).astype('float32')"
   ]
  },
  {
   "cell_type": "markdown",
   "metadata": {},
   "source": [
    "## 4) Normaliza as entradas de 0-255 para 0-1 e Separa os conjuntos de Treino e Teste"
   ]
  },
  {
   "cell_type": "code",
   "execution_count": 8,
   "metadata": {},
   "outputs": [],
   "source": [
    "X_train = X_train / 255\n",
    "X_test = X_test / 255"
   ]
  },
  {
   "cell_type": "code",
   "execution_count": 9,
   "metadata": {},
   "outputs": [],
   "source": [
    "# Gera os vetores com as classes do conjunto de dados de treinamento e teste\n",
    "y_train = np_utils.to_categorical(y_train)\n",
    "y_test = np_utils.to_categorical(y_test)\n",
    "num_classes = y_test.shape[1]"
   ]
  },
  {
   "cell_type": "markdown",
   "metadata": {},
   "source": [
    "## 5) Building the LeNet-5 Model"
   ]
  },
  {
   "cell_type": "markdown",
   "metadata": {},
   "source": [
    "![](https://i.ibb.co/L6Tr8s0/LeNet5.png)"
   ]
  },
  {
   "cell_type": "code",
   "execution_count": 12,
   "metadata": {},
   "outputs": [],
   "source": [
    "# Função que controi a arquitetura da CNN\n",
    "\n",
    "def larger_model():\n",
    "    # Cria o modelo\n",
    "    model = Sequential()\n",
    "    \n",
    "    # Convolução 2D com função de ativação tanh 6 filtros de 5x5\n",
    "    model.add(Conv2D(6, (5,5), input_shape=(28,28,1), padding='same', activation='tanh'))\n",
    "    \n",
    "    # Camada de Pooling\n",
    "    model.add(AveragePooling2D(pool_size=(2,2), strides=(1,1), padding='valid'))\n",
    "    \n",
    "    # Convolução 2D com função de ativação tanh 16 filtros de 5x5\n",
    "    model.add(Conv2D(16,(5,5), strides=(1,1), padding='valid', activation='tanh'))\n",
    "    \n",
    "    # Camada de Pooling\n",
    "    model.add(AveragePooling2D(pool_size=(2,2), strides=(2,2), padding='valid'))\n",
    "    \n",
    "    # Convolução 2D com função de ativação tanh 120 filtros de 5x5\n",
    "    model.add(Conv2D(120,(5, 5), strides=(1, 1), activation='tanh', padding='valid'))\n",
    "    \n",
    "    # Converte o conjunto de imagens num vetor unidimensional para a entrada da Camada Completamente Conectada\n",
    "    model.add(Flatten())\n",
    "    \n",
    "    # Adicionamos uma camada completamente conectada, baseada na LeNet5 que começa com mais neurônios na camada inicial e ela vai reduzindo.\n",
    "    model.add(Dense(84, activation='relu'))\n",
    "    model.add(Dense(num_classes, activation='softmax'))\n",
    "    \n",
    "    # Compila o modelo definindo o Adam optimization como algoritmo de atualização dos pesos dos neurônios  \n",
    "    model.compile(loss='categorical_crossentropy', optimizer='sgd', metrics=['accuracy'])\n",
    "    \n",
    "    return model"
   ]
  },
  {
   "cell_type": "code",
   "execution_count": 13,
   "metadata": {},
   "outputs": [
    {
     "name": "stderr",
     "output_type": "stream",
     "text": [
      "INFO:plaidml:Opening device \"metal_amd_radeon_pro_560x.0\"\n"
     ]
    }
   ],
   "source": [
    "# Instancia do Modelo\n",
    "model = larger_model()"
   ]
  },
  {
   "cell_type": "code",
   "execution_count": 14,
   "metadata": {},
   "outputs": [
    {
     "name": "stdout",
     "output_type": "stream",
     "text": [
      "_________________________________________________________________\n",
      "Layer (type)                 Output Shape              Param #   \n",
      "=================================================================\n",
      "conv2d_1 (Conv2D)            (None, 28, 28, 6)         156       \n",
      "_________________________________________________________________\n",
      "average_pooling2d_1 (Average (None, 27, 27, 6)         0         \n",
      "_________________________________________________________________\n",
      "conv2d_2 (Conv2D)            (None, 23, 23, 16)        2416      \n",
      "_________________________________________________________________\n",
      "average_pooling2d_2 (Average (None, 11, 11, 16)        0         \n",
      "_________________________________________________________________\n",
      "conv2d_3 (Conv2D)            (None, 7, 7, 120)         48120     \n",
      "_________________________________________________________________\n",
      "flatten_1 (Flatten)          (None, 5880)              0         \n",
      "_________________________________________________________________\n",
      "dense_1 (Dense)              (None, 84)                494004    \n",
      "_________________________________________________________________\n",
      "dense_2 (Dense)              (None, 10)                850       \n",
      "=================================================================\n",
      "Total params: 545,546\n",
      "Trainable params: 545,546\n",
      "Non-trainable params: 0\n",
      "_________________________________________________________________\n"
     ]
    }
   ],
   "source": [
    "model.summary()"
   ]
  },
  {
   "cell_type": "markdown",
   "metadata": {},
   "source": [
    "### Fitting the Model"
   ]
  },
  {
   "cell_type": "code",
   "execution_count": 15,
   "metadata": {},
   "outputs": [],
   "source": [
    "batch_size = 10"
   ]
  },
  {
   "cell_type": "code",
   "execution_count": 16,
   "metadata": {},
   "outputs": [],
   "source": [
    "log_path = '..\\Exercicio7'"
   ]
  },
  {
   "cell_type": "code",
   "execution_count": 17,
   "metadata": {},
   "outputs": [],
   "source": [
    "tensorboard = tb(\n",
    "    log_dir=log_path\n",
    "    ,write_graph=False #This eats a lot of space. Enable with caution!\n",
    "    #,histogram_freq = 1\n",
    "    ,write_images=True\n",
    "    ,batch_size = batch_size\n",
    "    ,write_grads=True\n",
    ")"
   ]
  },
  {
   "cell_type": "code",
   "execution_count": 18,
   "metadata": {},
   "outputs": [],
   "source": [
    "earlystopper = EarlyStopping(\n",
    "    monitor='loss'\n",
    "    ,patience=10\n",
    "    ,verbose=1\n",
    ")"
   ]
  },
  {
   "cell_type": "code",
   "execution_count": 19,
   "metadata": {},
   "outputs": [],
   "source": [
    "checkpointer = ModelCheckpoint(\n",
    "    'Ex7.hdf'\n",
    "    , verbose = 1\n",
    "    , save_best_only = True\n",
    "    , monitor='accuracy'\n",
    "    , mode='min'\n",
    ")"
   ]
  },
  {
   "cell_type": "code",
   "execution_count": 20,
   "metadata": {},
   "outputs": [],
   "source": [
    "callbacks = [checkpointer, earlystopper, tensorboard]"
   ]
  },
  {
   "cell_type": "code",
   "execution_count": 21,
   "metadata": {},
   "outputs": [],
   "source": [
    "epochs = 20"
   ]
  },
  {
   "cell_type": "code",
   "execution_count": 22,
   "metadata": {
    "collapsed": true,
    "jupyter": {
     "outputs_hidden": true
    }
   },
   "outputs": [
    {
     "name": "stdout",
     "output_type": "stream",
     "text": [
      "Train on 48000 samples, validate on 12000 samples\n",
      "WARNING:tensorflow:From /Users/andrerodrigues/opt/miniconda3/envs/dl/lib/python3.7/site-packages/keras/callbacks.py:850: The name tf.summary.merge_all is deprecated. Please use tf.compat.v1.summary.merge_all instead.\n",
      "\n",
      "WARNING:tensorflow:From /Users/andrerodrigues/opt/miniconda3/envs/dl/lib/python3.7/site-packages/keras/callbacks.py:856: The name tf.summary.FileWriter is deprecated. Please use tf.compat.v1.summary.FileWriter instead.\n",
      "\n",
      "Epoch 1/20\n",
      "48000/48000 [==============================] - 32s 665us/step - loss: 0.7288 - acc: 0.7327 - val_loss: 0.5286 - val_acc: 0.7994\n",
      "WARNING:tensorflow:From /Users/andrerodrigues/opt/miniconda3/envs/dl/lib/python3.7/site-packages/keras/callbacks.py:995: The name tf.Summary is deprecated. Please use tf.compat.v1.Summary instead.\n",
      "\n",
      "Epoch 2/20\n",
      "48000/48000 [==============================] - 29s 598us/step - loss: 0.4748 - acc: 0.8271 - val_loss: 0.4539 - val_acc: 0.8363\n",
      "Epoch 3/20\n",
      "48000/48000 [==============================] - 29s 599us/step - loss: 0.4191 - acc: 0.8492 - val_loss: 0.4144 - val_acc: 0.8476\n",
      "Epoch 4/20\n",
      "48000/48000 [==============================] - 29s 604us/step - loss: 0.3876 - acc: 0.8592 - val_loss: 0.4185 - val_acc: 0.8470\n",
      "Epoch 5/20\n",
      "48000/48000 [==============================] - 29s 608us/step - loss: 0.3660 - acc: 0.8676 - val_loss: 0.3807 - val_acc: 0.8623\n",
      "Epoch 6/20\n",
      "48000/48000 [==============================] - 29s 608us/step - loss: 0.3475 - acc: 0.8747 - val_loss: 0.3579 - val_acc: 0.8689\n",
      "Epoch 7/20\n",
      "48000/48000 [==============================] - 29s 606us/step - loss: 0.3323 - acc: 0.8781 - val_loss: 0.3460 - val_acc: 0.8743\n",
      "Epoch 8/20\n",
      "48000/48000 [==============================] - 29s 601us/step - loss: 0.3208 - acc: 0.8840 - val_loss: 0.3459 - val_acc: 0.8712\n",
      "Epoch 9/20\n",
      "48000/48000 [==============================] - 29s 601us/step - loss: 0.3086 - acc: 0.8880 - val_loss: 0.3372 - val_acc: 0.8793\n",
      "Epoch 10/20\n",
      "48000/48000 [==============================] - 29s 607us/step - loss: 0.2986 - acc: 0.8901 - val_loss: 0.3478 - val_acc: 0.8710\n",
      "Epoch 11/20\n",
      "48000/48000 [==============================] - 29s 604us/step - loss: 0.2888 - acc: 0.8949 - val_loss: 0.3197 - val_acc: 0.8825\n",
      "Epoch 12/20\n",
      "48000/48000 [==============================] - 29s 607us/step - loss: 0.2803 - acc: 0.8976 - val_loss: 0.3114 - val_acc: 0.8845\n",
      "Epoch 13/20\n",
      "48000/48000 [==============================] - 29s 607us/step - loss: 0.2731 - acc: 0.8990 - val_loss: 0.3098 - val_acc: 0.8871\n",
      "Epoch 14/20\n",
      "48000/48000 [==============================] - 29s 609us/step - loss: 0.2657 - acc: 0.9032 - val_loss: 0.3119 - val_acc: 0.8841\n",
      "Epoch 15/20\n",
      "48000/48000 [==============================] - 29s 604us/step - loss: 0.2588 - acc: 0.9047 - val_loss: 0.2994 - val_acc: 0.8894\n",
      "Epoch 16/20\n",
      "48000/48000 [==============================] - 29s 608us/step - loss: 0.2525 - acc: 0.9076 - val_loss: 0.3084 - val_acc: 0.8886\n",
      "Epoch 17/20\n",
      "48000/48000 [==============================] - 29s 604us/step - loss: 0.2449 - acc: 0.9096 - val_loss: 0.3080 - val_acc: 0.8870\n",
      "Epoch 18/20\n",
      "48000/48000 [==============================] - 29s 609us/step - loss: 0.2394 - acc: 0.9123 - val_loss: 0.3071 - val_acc: 0.8858\n",
      "Epoch 19/20\n",
      "48000/48000 [==============================] - 29s 601us/step - loss: 0.2323 - acc: 0.9154 - val_loss: 0.3107 - val_acc: 0.8878\n",
      "Epoch 20/20\n",
      "48000/48000 [==============================] - 29s 609us/step - loss: 0.2274 - acc: 0.9166 - val_loss: 0.2983 - val_acc: 0.8909\n"
     ]
    }
   ],
   "source": [
    "# Treinamento do modelo\n",
    "\n",
    "history = model.fit(\n",
    "    X_train\n",
    "    , y_train\n",
    "    , validation_split = 0.2\n",
    "    , epochs=epochs\n",
    "    , callbacks=callbacks\n",
    ")"
   ]
  },
  {
   "cell_type": "code",
   "execution_count": 23,
   "metadata": {},
   "outputs": [],
   "source": [
    "model.save('MNIST.h5')"
   ]
  },
  {
   "cell_type": "markdown",
   "metadata": {},
   "source": [
    "### Verificando a acurácia alcançada"
   ]
  },
  {
   "cell_type": "code",
   "execution_count": 24,
   "metadata": {},
   "outputs": [
    {
     "name": "stdout",
     "output_type": "stream",
     "text": [
      "10000/10000 [==============================] - 3s 311us/step\n"
     ]
    }
   ],
   "source": [
    "scores = model.evaluate(X_test, y_test)"
   ]
  },
  {
   "cell_type": "code",
   "execution_count": 25,
   "metadata": {},
   "outputs": [
    {
     "name": "stdout",
     "output_type": "stream",
     "text": [
      "\n",
      "loss: 31.41%\n",
      "\n",
      "acc: 88.71%\n",
      "Erro da CNN: 11.29%\n"
     ]
    }
   ],
   "source": [
    "print(\"\\n%s: %.2f%%\" % (model.metrics_names[0], scores[0]*100))\n",
    "print(\"\\n%s: %.2f%%\" % (model.metrics_names[1], scores[1]*100))\n",
    "print(\"Erro da CNN: %.2f%%\" % (100-scores[1]*100))"
   ]
  },
  {
   "cell_type": "markdown",
   "metadata": {},
   "source": [
    "### Learning Curves\n"
   ]
  },
  {
   "cell_type": "markdown",
   "metadata": {},
   "source": [
    "#### Plot Training & Validation accuracy values"
   ]
  },
  {
   "cell_type": "code",
   "execution_count": 26,
   "metadata": {},
   "outputs": [
    {
     "data": {
      "image/png": "[encoded data removed]",
      "text/plain": [
       "<Figure size 432x288 with 1 Axes>"
      ]
     },
     "metadata": {
      "needs_background": "light"
     },
     "output_type": "display_data"
    }
   ],
   "source": [
    "plt.plot(history.history['acc'])\n",
    "plt.plot(history.history['val_acc'])\n",
    "plt.title('Model accuracy')\n",
    "plt.ylabel('Accuracy')\n",
    "plt.xlabel('Epoch')\n",
    "plt.legend(['Train', 'Validation'], loc='lower right')\n",
    "plt.show()"
   ]
  },
  {
   "cell_type": "markdown",
   "metadata": {},
   "source": [
    "#### Plot Training & Validation losses values"
   ]
  },
  {
   "cell_type": "code",
   "execution_count": 27,
   "metadata": {},
   "outputs": [
    {
     "data": {
      "image/png": "[encoded data removed]",
      "text/plain": [
       "<Figure size 432x288 with 1 Axes>"
      ]
     },
     "metadata": {
      "needs_background": "light"
     },
     "output_type": "display_data"
    }
   ],
   "source": [
    "plt.plot(history.history['loss'])\n",
    "plt.plot(history.history['val_loss'])\n",
    "plt.title('Model Entropy Loss')\n",
    "plt.ylabel('Loss')\n",
    "plt.xlabel('Epoch')\n",
    "plt.legend(['loss', 'val loss'], loc='lower right')\n",
    "plt.show()"
   ]
  },
  {
   "cell_type": "markdown",
   "metadata": {},
   "source": [
    "#### Notamos um grave problema de overfitting que corrigiremos com Weight Regulation e MaxPooling"
   ]
  },
  {
   "cell_type": "markdown",
   "metadata": {},
   "source": [
    "## 6) Corrigindo o modelo"
   ]
  },
  {
   "cell_type": "code",
   "execution_count": 177,
   "metadata": {},
   "outputs": [],
   "source": [
    "from keras.regularizers import l2"
   ]
  },
  {
   "cell_type": "code",
   "execution_count": 178,
   "metadata": {},
   "outputs": [],
   "source": [
    "# Função que controi a arquitetura da CNN\n",
    "\n",
    "def larger_model_1():\n",
    "    # Cria o modelo\n",
    "    model = Sequential()\n",
    "    \n",
    "    # Convolução 2D com função de ativação tanh 6 filtros de 5x5\n",
    "    model.add(Conv2D(6, (5,5), input_shape=(28,28,1), padding='same', activation='relu'))\n",
    "    \n",
    "    # Camada de Pooling\n",
    "    model.add(MaxPooling2D(pool_size=(2,2), strides=(1,1), padding='valid'))\n",
    "    \n",
    "    # Convolução 2D com função de ativação tanh 16 filtros de 5x5\n",
    "    model.add(Conv2D(16,(5,5), strides=(1,1), padding='valid', activation='relu'))\n",
    "    \n",
    "    # Camada de Pooling\n",
    "    model.add(MaxPooling2D(pool_size=(2,2), strides=(2,2), padding='valid'))\n",
    "    \n",
    "    # Convolução 2D com função de ativação tanh 120 filtros de 5x5\n",
    "    model.add(Conv2D(120,(5, 5), strides=(1, 1), activation='relu', padding='valid'))\n",
    "    \n",
    "    # Converte o conjunto de imagens num vetor unidimensional para a entrada da Camada Completamente Conectada\n",
    "    model.add(Flatten())\n",
    "    \n",
    "    # Adicionamos uma camada completamente conectada, baseada na LeNet5 que começa com mais neurônios na camada inicial e ela vai reduzindo.\n",
    "    model.add(Dense(84, activation='relu', kernel_regularizer=l2(0.1)))\n",
    "    model.add(Dropout(0.4))\n",
    "    model.add(Dense(num_classes, activation='softmax', kernel_regularizer=l2(0.1)))\n",
    "    \n",
    "    # Compila o modelo definindo o Adam optimization como algoritmo de atualização dos pesos dos neurônios  \n",
    "    model.compile(loss='categorical_crossentropy', optimizer='sgd', metrics=['accuracy'])\n",
    "    \n",
    "   \n",
    "    return model"
   ]
  },
  {
   "cell_type": "code",
   "execution_count": 179,
   "metadata": {},
   "outputs": [],
   "source": [
    "# Instancia do Modelo\n",
    "model1 = larger_model_1()"
   ]
  },
  {
   "cell_type": "code",
   "execution_count": 180,
   "metadata": {},
   "outputs": [
    {
     "name": "stdout",
     "output_type": "stream",
     "text": [
      "_________________________________________________________________\n",
      "Layer (type)                 Output Shape              Param #   \n",
      "=================================================================\n",
      "conv2d_34 (Conv2D)           (None, 28, 28, 6)         156       \n",
      "_________________________________________________________________\n",
      "max_pooling2d_17 (MaxPooling (None, 27, 27, 6)         0         \n",
      "_________________________________________________________________\n",
      "conv2d_35 (Conv2D)           (None, 23, 23, 16)        2416      \n",
      "_________________________________________________________________\n",
      "max_pooling2d_18 (MaxPooling (None, 11, 11, 16)        0         \n",
      "_________________________________________________________________\n",
      "conv2d_36 (Conv2D)           (None, 7, 7, 120)         48120     \n",
      "_________________________________________________________________\n",
      "flatten_12 (Flatten)         (None, 5880)              0         \n",
      "_________________________________________________________________\n",
      "dense_23 (Dense)             (None, 84)                494004    \n",
      "_________________________________________________________________\n",
      "dropout_4 (Dropout)          (None, 84)                0         \n",
      "_________________________________________________________________\n",
      "dense_24 (Dense)             (None, 10)                850       \n",
      "=================================================================\n",
      "Total params: 545,546\n",
      "Trainable params: 545,546\n",
      "Non-trainable params: 0\n",
      "_________________________________________________________________\n"
     ]
    }
   ],
   "source": [
    "model1.summary()"
   ]
  },
  {
   "cell_type": "markdown",
   "metadata": {},
   "source": [
    "#### Fitting the Model"
   ]
  },
  {
   "cell_type": "code",
   "execution_count": 181,
   "metadata": {},
   "outputs": [],
   "source": [
    "batch_size1 = 32"
   ]
  },
  {
   "cell_type": "code",
   "execution_count": 182,
   "metadata": {},
   "outputs": [],
   "source": [
    "log_path1 = '..\\Exercicio7'"
   ]
  },
  {
   "cell_type": "code",
   "execution_count": 183,
   "metadata": {},
   "outputs": [],
   "source": [
    "tensorboard1 = tb(\n",
    "    log_dir=log_path\n",
    "    ,write_graph=False #This eats a lot of space. Enable with caution!\n",
    "    #,histogram_freq = 1\n",
    "    ,write_images=True\n",
    "    ,batch_size = batch_size1\n",
    "    ,write_grads=True\n",
    ")"
   ]
  },
  {
   "cell_type": "code",
   "execution_count": 184,
   "metadata": {},
   "outputs": [],
   "source": [
    "earlystopper1 = EarlyStopping(\n",
    "    monitor='loss'\n",
    "    ,patience=10\n",
    "    ,verbose=1\n",
    ")"
   ]
  },
  {
   "cell_type": "code",
   "execution_count": 185,
   "metadata": {},
   "outputs": [],
   "source": [
    "checkpointer1 = ModelCheckpoint(\n",
    "    'Ex7.hdf'\n",
    "    , verbose = 1\n",
    "    , save_best_only = True\n",
    "    , monitor='accuracy'\n",
    "    , mode='min'\n",
    ")"
   ]
  },
  {
   "cell_type": "code",
   "execution_count": 186,
   "metadata": {},
   "outputs": [],
   "source": [
    "callbacks1 = [checkpointer1, earlystopper1, tensorboard1]"
   ]
  },
  {
   "cell_type": "code",
   "execution_count": 187,
   "metadata": {},
   "outputs": [],
   "source": [
    "epochs1 = 150"
   ]
  },
  {
   "cell_type": "code",
   "execution_count": 188,
   "metadata": {
    "collapsed": true,
    "jupyter": {
     "outputs_hidden": true
    }
   },
   "outputs": [
    {
     "name": "stdout",
     "output_type": "stream",
     "text": [
      "Train on 48000 samples, validate on 12000 samples\n",
      "Epoch 1/150\n",
      "48000/48000 [==============================] - 36s 746us/step - loss: 4.2741 - acc: 0.6062 - val_loss: 0.9913 - val_acc: 0.6894\n",
      "Epoch 2/150\n",
      "48000/48000 [==============================] - 29s 609us/step - loss: 0.9928 - acc: 0.6966 - val_loss: 0.8279 - val_acc: 0.7600\n",
      "Epoch 3/150\n",
      "48000/48000 [==============================] - 29s 611us/step - loss: 0.9337 - acc: 0.7189 - val_loss: 0.8018 - val_acc: 0.7552\n",
      "Epoch 4/150\n",
      "48000/48000 [==============================] - 29s 612us/step - loss: 0.8898 - acc: 0.7375 - val_loss: 0.8023 - val_acc: 0.7738\n",
      "Epoch 5/150\n",
      "48000/48000 [==============================] - 30s 624us/step - loss: 0.8505 - acc: 0.7543 - val_loss: 0.7549 - val_acc: 0.7943\n",
      "Epoch 6/150\n",
      "48000/48000 [==============================] - 30s 633us/step - loss: 0.8338 - acc: 0.7600 - val_loss: 0.7905 - val_acc: 0.7570\n",
      "Epoch 7/150\n",
      "48000/48000 [==============================] - 30s 633us/step - loss: 0.8267 - acc: 0.7647 - val_loss: 0.7076 - val_acc: 0.8083\n",
      "Epoch 8/150\n",
      "48000/48000 [==============================] - 30s 627us/step - loss: 0.8163 - acc: 0.7692 - val_loss: 0.7315 - val_acc: 0.7825\n",
      "Epoch 9/150\n",
      "48000/48000 [==============================] - 30s 633us/step - loss: 0.8064 - acc: 0.7716 - val_loss: 0.7669 - val_acc: 0.7656\n",
      "Epoch 10/150\n",
      "48000/48000 [==============================] - 30s 635us/step - loss: 0.7998 - acc: 0.7745 - val_loss: 0.7208 - val_acc: 0.7970\n",
      "Epoch 11/150\n",
      "48000/48000 [==============================] - 30s 631us/step - loss: 0.7968 - acc: 0.7753 - val_loss: 0.7297 - val_acc: 0.8003\n",
      "Epoch 12/150\n",
      "48000/48000 [==============================] - 30s 624us/step - loss: 0.7927 - acc: 0.7764 - val_loss: 0.7266 - val_acc: 0.7997\n",
      "Epoch 13/150\n",
      "48000/48000 [==============================] - 30s 634us/step - loss: 0.7867 - acc: 0.7804 - val_loss: 0.7032 - val_acc: 0.7994\n",
      "Epoch 14/150\n",
      "48000/48000 [==============================] - 31s 636us/step - loss: 0.7791 - acc: 0.7815 - val_loss: 0.7274 - val_acc: 0.7973\n",
      "Epoch 15/150\n",
      "48000/48000 [==============================] - 30s 635us/step - loss: 0.7715 - acc: 0.7823 - val_loss: 0.7290 - val_acc: 0.8069\n",
      "Epoch 16/150\n",
      "48000/48000 [==============================] - 30s 632us/step - loss: 0.7653 - acc: 0.7865 - val_loss: 0.6735 - val_acc: 0.8194\n",
      "Epoch 17/150\n",
      "48000/48000 [==============================] - 31s 637us/step - loss: 0.7631 - acc: 0.7892 - val_loss: 0.7105 - val_acc: 0.8090\n",
      "Epoch 18/150\n",
      "48000/48000 [==============================] - 30s 635us/step - loss: 0.7554 - acc: 0.7899 - val_loss: 0.6867 - val_acc: 0.8133\n",
      "Epoch 19/150\n",
      "48000/48000 [==============================] - 30s 633us/step - loss: 0.7460 - acc: 0.7927 - val_loss: 0.7034 - val_acc: 0.8094\n",
      "Epoch 20/150\n",
      "48000/48000 [==============================] - 30s 629us/step - loss: 0.7449 - acc: 0.7949 - val_loss: 0.7076 - val_acc: 0.8089\n",
      "Epoch 21/150\n",
      "48000/48000 [==============================] - 30s 631us/step - loss: 0.7327 - acc: 0.7979 - val_loss: 0.7306 - val_acc: 0.7919\n",
      "Epoch 22/150\n",
      "48000/48000 [==============================] - 31s 636us/step - loss: 0.7337 - acc: 0.7960 - val_loss: 0.6581 - val_acc: 0.8297\n",
      "Epoch 23/150\n",
      "48000/48000 [==============================] - 30s 635us/step - loss: 0.7242 - acc: 0.8018 - val_loss: 0.6494 - val_acc: 0.8311\n",
      "Epoch 24/150\n",
      "48000/48000 [==============================] - 30s 627us/step - loss: 0.7215 - acc: 0.8032 - val_loss: 0.6608 - val_acc: 0.8212\n",
      "Epoch 25/150\n",
      "48000/48000 [==============================] - 31s 638us/step - loss: 0.7207 - acc: 0.8052 - val_loss: 0.6275 - val_acc: 0.8366\n",
      "Epoch 26/150\n",
      "48000/48000 [==============================] - 31s 637us/step - loss: 0.7140 - acc: 0.8063 - val_loss: 0.6660 - val_acc: 0.8155\n",
      "Epoch 27/150\n",
      "48000/48000 [==============================] - 30s 633us/step - loss: 0.7103 - acc: 0.8101 - val_loss: 0.7204 - val_acc: 0.7936\n",
      "Epoch 28/150\n",
      "48000/48000 [==============================] - 30s 632us/step - loss: 0.7028 - acc: 0.8102 - val_loss: 0.6581 - val_acc: 0.8196\n",
      "Epoch 29/150\n",
      "48000/48000 [==============================] - 30s 635us/step - loss: 0.7014 - acc: 0.8128 - val_loss: 0.6377 - val_acc: 0.8285\n",
      "Epoch 30/150\n",
      "48000/48000 [==============================] - 30s 630us/step - loss: 0.6994 - acc: 0.8145 - val_loss: 0.6108 - val_acc: 0.8393\n",
      "Epoch 31/150\n",
      "48000/48000 [==============================] - 31s 636us/step - loss: 0.6926 - acc: 0.8149 - val_loss: 0.6430 - val_acc: 0.8317\n",
      "Epoch 32/150\n",
      "48000/48000 [==============================] - 30s 634us/step - loss: 0.6895 - acc: 0.8168 - val_loss: 0.6195 - val_acc: 0.8339\n",
      "Epoch 33/150\n",
      "48000/48000 [==============================] - 31s 639us/step - loss: 0.6901 - acc: 0.8144 - val_loss: 0.6427 - val_acc: 0.8293\n",
      "Epoch 34/150\n",
      "48000/48000 [==============================] - 31s 637us/step - loss: 0.6829 - acc: 0.8182 - val_loss: 0.5986 - val_acc: 0.8460\n",
      "Epoch 35/150\n",
      "48000/48000 [==============================] - 31s 635us/step - loss: 0.6803 - acc: 0.8212 - val_loss: 0.6469 - val_acc: 0.8302\n",
      "Epoch 36/150\n",
      "48000/48000 [==============================] - 30s 634us/step - loss: 0.6764 - acc: 0.8216 - val_loss: 0.6002 - val_acc: 0.8448\n",
      "Epoch 37/150\n",
      "48000/48000 [==============================] - 31s 638us/step - loss: 0.6733 - acc: 0.8214 - val_loss: 0.6073 - val_acc: 0.8436\n",
      "Epoch 38/150\n",
      "48000/48000 [==============================] - 30s 634us/step - loss: 0.6726 - acc: 0.8226 - val_loss: 0.6205 - val_acc: 0.8355\n",
      "Epoch 39/150\n",
      "48000/48000 [==============================] - 31s 636us/step - loss: 0.6677 - acc: 0.8243 - val_loss: 0.6158 - val_acc: 0.8417\n",
      "Epoch 40/150\n",
      "48000/48000 [==============================] - 30s 630us/step - loss: 0.6610 - acc: 0.8267 - val_loss: 0.6143 - val_acc: 0.8414\n",
      "Epoch 41/150\n",
      "48000/48000 [==============================] - 31s 635us/step - loss: 0.6643 - acc: 0.8260 - val_loss: 0.6015 - val_acc: 0.8458\n",
      "Epoch 42/150\n",
      "48000/48000 [==============================] - 30s 635us/step - loss: 0.6590 - acc: 0.8278 - val_loss: 0.6024 - val_acc: 0.8438\n",
      "Epoch 43/150\n",
      "48000/48000 [==============================] - 30s 635us/step - loss: 0.6569 - acc: 0.8271 - val_loss: 0.6092 - val_acc: 0.8333\n",
      "Epoch 44/150\n",
      "48000/48000 [==============================] - 30s 632us/step - loss: 0.6561 - acc: 0.8280 - val_loss: 0.5729 - val_acc: 0.8552\n",
      "Epoch 45/150\n",
      "48000/48000 [==============================] - 31s 636us/step - loss: 0.6533 - acc: 0.8289 - val_loss: 0.6103 - val_acc: 0.8407\n",
      "Epoch 46/150\n",
      "48000/48000 [==============================] - 30s 634us/step - loss: 0.6486 - acc: 0.8308 - val_loss: 0.6182 - val_acc: 0.8366\n",
      "Epoch 47/150\n",
      "48000/48000 [==============================] - 30s 631us/step - loss: 0.6491 - acc: 0.8327 - val_loss: 0.5852 - val_acc: 0.8475\n",
      "Epoch 48/150\n",
      "48000/48000 [==============================] - 30s 632us/step - loss: 0.6467 - acc: 0.8324 - val_loss: 0.5864 - val_acc: 0.8455\n",
      "Epoch 49/150\n",
      "48000/48000 [==============================] - 30s 634us/step - loss: 0.6428 - acc: 0.8336 - val_loss: 0.6041 - val_acc: 0.8426\n",
      "Epoch 50/150\n",
      "48000/48000 [==============================] - 30s 633us/step - loss: 0.6431 - acc: 0.8328 - val_loss: 0.5734 - val_acc: 0.8552\n",
      "Epoch 51/150\n",
      "48000/48000 [==============================] - 30s 631us/step - loss: 0.6374 - acc: 0.8353 - val_loss: 0.6193 - val_acc: 0.8413\n",
      "Epoch 52/150\n",
      "48000/48000 [==============================] - 30s 629us/step - loss: 0.6405 - acc: 0.8338 - val_loss: 0.6196 - val_acc: 0.8355\n",
      "Epoch 53/150\n",
      "48000/48000 [==============================] - 30s 634us/step - loss: 0.6319 - acc: 0.8366 - val_loss: 0.5643 - val_acc: 0.8532\n",
      "Epoch 54/150\n",
      "48000/48000 [==============================] - 30s 633us/step - loss: 0.6345 - acc: 0.8355 - val_loss: 0.6824 - val_acc: 0.8076\n",
      "Epoch 55/150\n",
      "48000/48000 [==============================] - 30s 629us/step - loss: 0.6310 - acc: 0.8368 - val_loss: 0.5627 - val_acc: 0.8584\n",
      "Epoch 56/150\n",
      "48000/48000 [==============================] - 30s 629us/step - loss: 0.6302 - acc: 0.8377 - val_loss: 0.5880 - val_acc: 0.8498\n",
      "Epoch 57/150\n",
      "48000/48000 [==============================] - 30s 633us/step - loss: 0.6288 - acc: 0.8391 - val_loss: 0.6110 - val_acc: 0.8476\n",
      "Epoch 58/150\n",
      "48000/48000 [==============================] - 30s 632us/step - loss: 0.6270 - acc: 0.8392 - val_loss: 0.5645 - val_acc: 0.8549\n",
      "Epoch 59/150\n",
      "48000/48000 [==============================] - 30s 630us/step - loss: 0.6222 - acc: 0.8403 - val_loss: 0.5819 - val_acc: 0.8538\n",
      "Epoch 60/150\n",
      "48000/48000 [==============================] - 30s 628us/step - loss: 0.6228 - acc: 0.8391 - val_loss: 0.5798 - val_acc: 0.8539\n",
      "Epoch 61/150\n",
      "48000/48000 [==============================] - 30s 631us/step - loss: 0.6191 - acc: 0.8411 - val_loss: 0.5812 - val_acc: 0.8537\n",
      "Epoch 62/150\n",
      "48000/48000 [==============================] - 30s 630us/step - loss: 0.6192 - acc: 0.8405 - val_loss: 0.5963 - val_acc: 0.8472\n",
      "Epoch 63/150\n",
      "48000/48000 [==============================] - 30s 629us/step - loss: 0.6172 - acc: 0.8414 - val_loss: 0.5809 - val_acc: 0.8514\n",
      "Epoch 64/150\n",
      "48000/48000 [==============================] - 30s 629us/step - loss: 0.6219 - acc: 0.8422 - val_loss: 0.5581 - val_acc: 0.8583\n",
      "Epoch 65/150\n",
      "48000/48000 [==============================] - 30s 631us/step - loss: 0.6161 - acc: 0.8434 - val_loss: 0.5571 - val_acc: 0.8602\n",
      "Epoch 66/150\n",
      "48000/48000 [==============================] - 30s 631us/step - loss: 0.6150 - acc: 0.8434 - val_loss: 0.5573 - val_acc: 0.8582\n",
      "Epoch 67/150\n",
      "48000/48000 [==============================] - 30s 626us/step - loss: 0.6114 - acc: 0.8429 - val_loss: 0.5972 - val_acc: 0.8518\n",
      "Epoch 68/150\n",
      "48000/48000 [==============================] - 30s 628us/step - loss: 0.6138 - acc: 0.8441 - val_loss: 0.5548 - val_acc: 0.8536\n",
      "Epoch 69/150\n",
      "48000/48000 [==============================] - 30s 631us/step - loss: 0.6114 - acc: 0.8417 - val_loss: 0.5833 - val_acc: 0.8547\n",
      "Epoch 70/150\n",
      "48000/48000 [==============================] - 30s 630us/step - loss: 0.6099 - acc: 0.8439 - val_loss: 0.5925 - val_acc: 0.8407\n",
      "Epoch 71/150\n",
      "48000/48000 [==============================] - 30s 627us/step - loss: 0.6110 - acc: 0.8447 - val_loss: 0.5357 - val_acc: 0.8635\n",
      "Epoch 72/150\n",
      "48000/48000 [==============================] - 30s 626us/step - loss: 0.6050 - acc: 0.8451 - val_loss: 0.5395 - val_acc: 0.8646\n",
      "Epoch 73/150\n",
      "48000/48000 [==============================] - 30s 631us/step - loss: 0.6044 - acc: 0.8457 - val_loss: 0.5493 - val_acc: 0.8602\n",
      "Epoch 74/150\n",
      "48000/48000 [==============================] - 30s 631us/step - loss: 0.6046 - acc: 0.8458 - val_loss: 0.5523 - val_acc: 0.8612\n",
      "Epoch 75/150\n",
      "48000/48000 [==============================] - 30s 627us/step - loss: 0.6036 - acc: 0.8455 - val_loss: 0.5591 - val_acc: 0.8602\n",
      "Epoch 76/150\n",
      "48000/48000 [==============================] - 30s 627us/step - loss: 0.6003 - acc: 0.8475 - val_loss: 0.5594 - val_acc: 0.8580\n",
      "Epoch 77/150\n",
      "48000/48000 [==============================] - 30s 630us/step - loss: 0.6027 - acc: 0.8437 - val_loss: 0.5568 - val_acc: 0.8612\n",
      "Epoch 78/150\n",
      "48000/48000 [==============================] - 30s 630us/step - loss: 0.6002 - acc: 0.8484 - val_loss: 0.5556 - val_acc: 0.8550\n",
      "Epoch 79/150\n",
      "48000/48000 [==============================] - 30s 626us/step - loss: 0.5999 - acc: 0.8473 - val_loss: 0.5449 - val_acc: 0.8630\n",
      "Epoch 80/150\n",
      "48000/48000 [==============================] - 30s 627us/step - loss: 0.5981 - acc: 0.8471 - val_loss: 0.5834 - val_acc: 0.8554\n",
      "Epoch 81/150\n",
      "48000/48000 [==============================] - 30s 629us/step - loss: 0.5952 - acc: 0.8501 - val_loss: 0.5480 - val_acc: 0.8597\n",
      "Epoch 82/150\n",
      "48000/48000 [==============================] - 30s 628us/step - loss: 0.5965 - acc: 0.8494 - val_loss: 0.5646 - val_acc: 0.8538\n",
      "Epoch 83/150\n",
      "48000/48000 [==============================] - 30s 621us/step - loss: 0.5973 - acc: 0.8473 - val_loss: 0.5507 - val_acc: 0.8604\n",
      "Epoch 84/150\n",
      "48000/48000 [==============================] - 30s 625us/step - loss: 0.5923 - acc: 0.8494 - val_loss: 0.5583 - val_acc: 0.8578\n",
      "Epoch 85/150\n",
      "48000/48000 [==============================] - 30s 629us/step - loss: 0.5917 - acc: 0.8492 - val_loss: 0.5619 - val_acc: 0.8544\n",
      "Epoch 86/150\n",
      "48000/48000 [==============================] - 30s 627us/step - loss: 0.5940 - acc: 0.8504 - val_loss: 0.5681 - val_acc: 0.8554\n",
      "Epoch 87/150\n",
      "48000/48000 [==============================] - 30s 623us/step - loss: 0.5896 - acc: 0.8503 - val_loss: 0.5294 - val_acc: 0.8630\n",
      "Epoch 88/150\n",
      "48000/48000 [==============================] - 30s 626us/step - loss: 0.5903 - acc: 0.8518 - val_loss: 0.5759 - val_acc: 0.8431\n",
      "Epoch 89/150\n",
      "48000/48000 [==============================] - 30s 627us/step - loss: 0.5892 - acc: 0.8509 - val_loss: 0.5412 - val_acc: 0.8660\n",
      "Epoch 90/150\n",
      "48000/48000 [==============================] - 30s 621us/step - loss: 0.5916 - acc: 0.8512 - val_loss: 0.5760 - val_acc: 0.8523\n",
      "Epoch 91/150\n",
      "48000/48000 [==============================] - 30s 622us/step - loss: 0.5915 - acc: 0.8516 - val_loss: 0.5366 - val_acc: 0.8691\n",
      "Epoch 92/150\n",
      "48000/48000 [==============================] - 30s 622us/step - loss: 0.5862 - acc: 0.8536 - val_loss: 0.5426 - val_acc: 0.8614\n",
      "Epoch 93/150\n",
      "48000/48000 [==============================] - 30s 625us/step - loss: 0.5851 - acc: 0.8524 - val_loss: 0.5733 - val_acc: 0.8468\n",
      "Epoch 94/150\n",
      "48000/48000 [==============================] - 30s 622us/step - loss: 0.5835 - acc: 0.8533 - val_loss: 0.5614 - val_acc: 0.8525\n",
      "Epoch 95/150\n",
      "48000/48000 [==============================] - 30s 622us/step - loss: 0.5860 - acc: 0.8542 - val_loss: 0.5588 - val_acc: 0.8635\n",
      "Epoch 96/150\n",
      "48000/48000 [==============================] - 30s 620us/step - loss: 0.5859 - acc: 0.8517 - val_loss: 0.5340 - val_acc: 0.8678\n",
      "Epoch 97/150\n",
      "48000/48000 [==============================] - 30s 627us/step - loss: 0.5824 - acc: 0.8538 - val_loss: 0.5526 - val_acc: 0.8568\n",
      "Epoch 98/150\n",
      "48000/48000 [==============================] - 30s 625us/step - loss: 0.5876 - acc: 0.8510 - val_loss: 0.5210 - val_acc: 0.8695\n",
      "Epoch 99/150\n",
      "48000/48000 [==============================] - 30s 624us/step - loss: 0.5780 - acc: 0.8526 - val_loss: 0.5397 - val_acc: 0.8662\n",
      "Epoch 100/150\n",
      "48000/48000 [==============================] - 30s 624us/step - loss: 0.5791 - acc: 0.8542 - val_loss: 0.5180 - val_acc: 0.8704\n",
      "Epoch 101/150\n",
      "48000/48000 [==============================] - 30s 627us/step - loss: 0.5780 - acc: 0.8554 - val_loss: 0.5404 - val_acc: 0.8665\n",
      "Epoch 102/150\n",
      "48000/48000 [==============================] - 30s 626us/step - loss: 0.5791 - acc: 0.8536 - val_loss: 0.5135 - val_acc: 0.8698\n",
      "Epoch 103/150\n",
      "48000/48000 [==============================] - 30s 623us/step - loss: 0.5756 - acc: 0.8559 - val_loss: 0.5243 - val_acc: 0.8714\n",
      "Epoch 104/150\n",
      "48000/48000 [==============================] - 30s 623us/step - loss: 0.5733 - acc: 0.8541 - val_loss: 0.5278 - val_acc: 0.8675\n",
      "Epoch 105/150\n",
      "48000/48000 [==============================] - 30s 625us/step - loss: 0.5729 - acc: 0.8559 - val_loss: 0.5288 - val_acc: 0.8657\n",
      "Epoch 106/150\n",
      "48000/48000 [==============================] - 30s 625us/step - loss: 0.5727 - acc: 0.8566 - val_loss: 0.5332 - val_acc: 0.8650\n",
      "Epoch 107/150\n",
      "48000/48000 [==============================] - 30s 621us/step - loss: 0.5700 - acc: 0.8563 - val_loss: 0.5535 - val_acc: 0.8588\n",
      "Epoch 108/150\n",
      "48000/48000 [==============================] - 30s 622us/step - loss: 0.5717 - acc: 0.8578 - val_loss: 0.5405 - val_acc: 0.8615\n",
      "Epoch 109/150\n",
      "48000/48000 [==============================] - 30s 625us/step - loss: 0.5685 - acc: 0.8570 - val_loss: 0.5623 - val_acc: 0.8484\n",
      "Epoch 110/150\n",
      "48000/48000 [==============================] - 30s 623us/step - loss: 0.5712 - acc: 0.8559 - val_loss: 0.5228 - val_acc: 0.8727\n",
      "Epoch 111/150\n",
      "48000/48000 [==============================] - 30s 621us/step - loss: 0.5671 - acc: 0.8602 - val_loss: 0.5471 - val_acc: 0.8689\n",
      "Epoch 112/150\n",
      "48000/48000 [==============================] - 30s 622us/step - loss: 0.5699 - acc: 0.8587 - val_loss: 0.5215 - val_acc: 0.8699\n",
      "Epoch 113/150\n",
      "48000/48000 [==============================] - 30s 625us/step - loss: 0.5703 - acc: 0.8569 - val_loss: 0.5215 - val_acc: 0.8734\n",
      "Epoch 114/150\n",
      "48000/48000 [==============================] - 30s 623us/step - loss: 0.5685 - acc: 0.8586 - val_loss: 0.5252 - val_acc: 0.8697\n",
      "Epoch 115/150\n",
      "48000/48000 [==============================] - 30s 621us/step - loss: 0.5623 - acc: 0.8598 - val_loss: 0.5115 - val_acc: 0.8712\n",
      "Epoch 116/150\n",
      "48000/48000 [==============================] - 30s 621us/step - loss: 0.5667 - acc: 0.8598 - val_loss: 0.5383 - val_acc: 0.8691\n",
      "Epoch 117/150\n",
      "48000/48000 [==============================] - 30s 624us/step - loss: 0.5650 - acc: 0.8584 - val_loss: 0.5714 - val_acc: 0.8485\n",
      "Epoch 118/150\n",
      "48000/48000 [==============================] - 30s 623us/step - loss: 0.5598 - acc: 0.8601 - val_loss: 0.5508 - val_acc: 0.8632\n",
      "Epoch 119/150\n",
      "48000/48000 [==============================] - 30s 622us/step - loss: 0.5616 - acc: 0.8596 - val_loss: 0.5128 - val_acc: 0.8758\n",
      "Epoch 120/150\n",
      "48000/48000 [==============================] - 30s 621us/step - loss: 0.5606 - acc: 0.8613 - val_loss: 0.5432 - val_acc: 0.8569\n",
      "Epoch 121/150\n",
      "48000/48000 [==============================] - 30s 625us/step - loss: 0.5616 - acc: 0.8608 - val_loss: 0.5193 - val_acc: 0.8708\n",
      "Epoch 122/150\n",
      "48000/48000 [==============================] - 30s 623us/step - loss: 0.5620 - acc: 0.8591 - val_loss: 0.5015 - val_acc: 0.8736\n",
      "Epoch 123/150\n",
      "48000/48000 [==============================] - 30s 621us/step - loss: 0.5601 - acc: 0.8618 - val_loss: 0.5233 - val_acc: 0.8718\n",
      "Epoch 124/150\n",
      "48000/48000 [==============================] - 30s 621us/step - loss: 0.5572 - acc: 0.8619 - val_loss: 0.5400 - val_acc: 0.8593\n",
      "Epoch 125/150\n",
      "48000/48000 [==============================] - 30s 623us/step - loss: 0.5596 - acc: 0.8610 - val_loss: 0.5340 - val_acc: 0.8632\n",
      "Epoch 126/150\n",
      "48000/48000 [==============================] - 30s 621us/step - loss: 0.5571 - acc: 0.8624 - val_loss: 0.5383 - val_acc: 0.8696\n",
      "Epoch 127/150\n",
      "48000/48000 [==============================] - 30s 620us/step - loss: 0.5584 - acc: 0.8613 - val_loss: 0.5520 - val_acc: 0.8609\n",
      "Epoch 128/150\n",
      "48000/48000 [==============================] - 30s 619us/step - loss: 0.5605 - acc: 0.8596 - val_loss: 0.5151 - val_acc: 0.8721\n",
      "Epoch 129/150\n",
      "48000/48000 [==============================] - 30s 623us/step - loss: 0.5542 - acc: 0.8608 - val_loss: 0.5169 - val_acc: 0.8723\n",
      "Epoch 130/150\n",
      "48000/48000 [==============================] - 30s 622us/step - loss: 0.5572 - acc: 0.8612 - val_loss: 0.5209 - val_acc: 0.8691\n",
      "Epoch 131/150\n",
      "48000/48000 [==============================] - 30s 620us/step - loss: 0.5535 - acc: 0.8633 - val_loss: 0.5129 - val_acc: 0.8727\n",
      "Epoch 132/150\n",
      "48000/48000 [==============================] - 30s 619us/step - loss: 0.5535 - acc: 0.8639 - val_loss: 0.5151 - val_acc: 0.8704\n",
      "Epoch 133/150\n",
      "48000/48000 [==============================] - 30s 622us/step - loss: 0.5519 - acc: 0.8624 - val_loss: 0.5164 - val_acc: 0.8731\n",
      "Epoch 134/150\n",
      "48000/48000 [==============================] - 30s 621us/step - loss: 0.5505 - acc: 0.8638 - val_loss: 0.5260 - val_acc: 0.8698\n",
      "Epoch 135/150\n",
      "48000/48000 [==============================] - 30s 619us/step - loss: 0.5517 - acc: 0.8642 - val_loss: 0.4986 - val_acc: 0.8772\n",
      "Epoch 136/150\n",
      "48000/48000 [==============================] - 30s 619us/step - loss: 0.5506 - acc: 0.8628 - val_loss: 0.5149 - val_acc: 0.8738\n",
      "Epoch 137/150\n",
      "48000/48000 [==============================] - 30s 621us/step - loss: 0.5519 - acc: 0.8644 - val_loss: 0.5411 - val_acc: 0.8648\n",
      "Epoch 138/150\n",
      "48000/48000 [==============================] - 30s 621us/step - loss: 0.5521 - acc: 0.8625 - val_loss: 0.5021 - val_acc: 0.8755\n",
      "Epoch 139/150\n",
      "48000/48000 [==============================] - 30s 619us/step - loss: 0.5514 - acc: 0.8640 - val_loss: 0.5178 - val_acc: 0.8725\n",
      "Epoch 140/150\n",
      "48000/48000 [==============================] - 30s 620us/step - loss: 0.5464 - acc: 0.8666 - val_loss: 0.5410 - val_acc: 0.8632\n",
      "Epoch 141/150\n",
      "48000/48000 [==============================] - 30s 622us/step - loss: 0.5461 - acc: 0.8650 - val_loss: 0.5081 - val_acc: 0.8748\n",
      "Epoch 142/150\n",
      "48000/48000 [==============================] - 30s 622us/step - loss: 0.5484 - acc: 0.8655 - val_loss: 0.5293 - val_acc: 0.8702\n",
      "Epoch 143/150\n",
      "48000/48000 [==============================] - 30s 620us/step - loss: 0.5462 - acc: 0.8667 - val_loss: 0.5053 - val_acc: 0.8748\n",
      "Epoch 144/150\n",
      "48000/48000 [==============================] - 30s 619us/step - loss: 0.5466 - acc: 0.8672 - val_loss: 0.4988 - val_acc: 0.8749\n",
      "Epoch 145/150\n",
      "48000/48000 [==============================] - 30s 621us/step - loss: 0.5465 - acc: 0.8638 - val_loss: 0.5149 - val_acc: 0.8720\n",
      "Epoch 146/150\n",
      "48000/48000 [==============================] - 30s 622us/step - loss: 0.5447 - acc: 0.8664 - val_loss: 0.5189 - val_acc: 0.8742\n",
      "Epoch 147/150\n",
      "48000/48000 [==============================] - 30s 616us/step - loss: 0.5425 - acc: 0.8685 - val_loss: 0.5130 - val_acc: 0.8691\n",
      "Epoch 148/150\n",
      "48000/48000 [==============================] - 30s 621us/step - loss: 0.5471 - acc: 0.8650 - val_loss: 0.5273 - val_acc: 0.8672\n",
      "Epoch 149/150\n",
      "48000/48000 [==============================] - 30s 620us/step - loss: 0.5417 - acc: 0.8674 - val_loss: 0.5280 - val_acc: 0.8652\n",
      "Epoch 150/150\n",
      "48000/48000 [==============================] - 30s 620us/step - loss: 0.5419 - acc: 0.8683 - val_loss: 0.5203 - val_acc: 0.8692\n"
     ]
    }
   ],
   "source": [
    "# Treinamento do modelo\n",
    "\n",
    "history1 = model1.fit(\n",
    "    X_train\n",
    "    , y_train\n",
    "    , validation_split = 0.2\n",
    "    , epochs=epochs1\n",
    "    , callbacks=callbacks1\n",
    ")"
   ]
  },
  {
   "cell_type": "code",
   "execution_count": 189,
   "metadata": {},
   "outputs": [],
   "source": [
    "model1.save('MNIST.h5')"
   ]
  },
  {
   "cell_type": "markdown",
   "metadata": {},
   "source": [
    "## 7))Verificando a acurácia alcançada"
   ]
  },
  {
   "cell_type": "code",
   "execution_count": 190,
   "metadata": {},
   "outputs": [
    {
     "name": "stdout",
     "output_type": "stream",
     "text": [
      "10000/10000 [==============================] - 4s 402us/step\n"
     ]
    }
   ],
   "source": [
    "scores1 = model1.evaluate(X_test, y_test)"
   ]
  },
  {
   "cell_type": "code",
   "execution_count": 194,
   "metadata": {},
   "outputs": [
    {
     "name": "stdout",
     "output_type": "stream",
     "text": [
      "\n",
      "loss: 53.48%\n",
      "\n",
      "acc: 86.16%\n",
      "\n",
      "Erro da CNN: 13.84%\n"
     ]
    }
   ],
   "source": [
    "print(\"\\n%s: %.2f%%\" % (model1.metrics_names[0], scores1[0]*100))\n",
    "print(\"\\n%s: %.2f%%\" % (model1.metrics_names[1], scores1[1]*100))\n",
    "print(\"\\nErro da CNN: %.2f%%\" % (100-scores1[1]*100))"
   ]
  },
  {
   "cell_type": "markdown",
   "metadata": {},
   "source": [
    "### Learning Curves\n"
   ]
  },
  {
   "cell_type": "markdown",
   "metadata": {},
   "source": [
    "#### Plot Training & Validation accuracy values"
   ]
  },
  {
   "cell_type": "code",
   "execution_count": 192,
   "metadata": {},
   "outputs": [
    {
     "data": {
      "image/png": "[encoded data removed]",
      "text/plain": [
       "<Figure size 432x288 with 1 Axes>"
      ]
     },
     "metadata": {
      "needs_background": "light"
     },
     "output_type": "display_data"
    }
   ],
   "source": [
    "plt.plot(history1.history['acc'])\n",
    "plt.plot(history1.history['val_acc'])\n",
    "plt.title('Model accuracy')\n",
    "plt.ylabel('Accuracy')\n",
    "plt.xlabel('Epoch')\n",
    "plt.legend(['Train', 'Validation'], loc='lower right')\n",
    "plt.show()"
   ]
  },
  {
   "cell_type": "markdown",
   "metadata": {},
   "source": [
    "#### Plot Training & Validation losses values"
   ]
  },
  {
   "cell_type": "code",
   "execution_count": 193,
   "metadata": {},
   "outputs": [
    {
     "data": {
      "image/png": "[encoded data removed]",
      "text/plain": [
       "<Figure size 432x288 with 1 Axes>"
      ]
     },
     "metadata": {
      "needs_background": "light"
     },
     "output_type": "display_data"
    }
   ],
   "source": [
    "plt.plot(history1.history['loss'])\n",
    "plt.plot(history1.history['val_loss'])\n",
    "plt.title('Model Entropy Loss')\n",
    "plt.ylabel('Loss')\n",
    "plt.xlabel('Epoch')\n",
    "plt.legend(['loss', 'val loss'], loc='lower right')\n",
    "plt.show()"
   ]
  },
  {
   "cell_type": "code",
   "execution_count": null,
   "metadata": {},
   "outputs": [],
   "source": []
  },
  {
   "cell_type": "markdown",
   "metadata": {},
   "source": [
    "#### References:"
   ]
  },
  {
   "cell_type": "markdown",
   "metadata": {},
   "source": [
    "##### Horea Muresan, [Mihai Oltean](https://mihaioltean.github.io), [Fruit recognition from images using deep learning](https://www.researchgate.net/publication/321475443_Fruit_recognition_from_images_using_deep_learning), Acta Univ. Sapientiae, Informatica Vol. 10, Issue 1, pp. 26-42, 2018.\n",
    "\n",
    "##### https://machinelearningmastery.com/how-to-develop-a-convolutional-neural-network-to-classify-satellite-photos-of-the-amazon-rainforest/\n",
    "\n",
    "##### https://medium.com/@vijayabhaskar96/tutorial-image-classification-with-keras-flow-from-directory-and-generators-95f75ebe5720\n",
    "\n",
    "##### https://engmrk.com/lenet-5-a-classic-cnn-architecture/\n",
    "\n",
    "\n",
    "##### http://sigmoidal.ai/redes-neurais-convolucionais-python/"
   ]
  },
  {
   "cell_type": "code",
   "execution_count": null,
   "metadata": {},
   "outputs": [],
   "source": []
  }
 ],
 "metadata": {
  "kernelspec": {
   "display_name": "Python 3",
   "language": "python",
   "name": "python3"
  },
  "language_info": {
   "codemirror_mode": {
    "name": "ipython",
    "version": 3
   },
   "file_extension": ".py",
   "mimetype": "text/x-python",
   "name": "python",
   "nbconvert_exporter": "python",
   "pygments_lexer": "ipython3",
   "version": "3.7.5"
  }
 },
 "nbformat": 4,
 "nbformat_minor": 4
}
