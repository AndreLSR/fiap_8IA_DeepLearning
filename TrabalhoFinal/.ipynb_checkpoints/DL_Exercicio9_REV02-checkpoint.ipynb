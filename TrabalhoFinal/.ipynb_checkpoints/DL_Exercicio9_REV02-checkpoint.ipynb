{
 "cells": [
  {
   "cell_type": "code",
   "execution_count": null,
   "metadata": {
    "colab": {},
    "colab_type": "code",
    "id": "MkwMh43bCJAK"
   },
   "outputs": [],
   "source": [
    "# import os\n",
    "# os.environ[\"KERAS_BACKEND\"] = \"plaidml.keras.backend\""
   ]
  },
  {
   "cell_type": "code",
   "execution_count": null,
   "metadata": {
    "colab": {
     "base_uri": "https://localhost:8080/",
     "height": 77
    },
    "colab_type": "code",
    "executionInfo": {
     "elapsed": 3345,
     "status": "ok",
     "timestamp": 1576933662107,
     "user": {
      "displayName": "André Rodrigues",
      "photoUrl": "https://lh3.googleusercontent.com/a-/AAuE7mC4VcoLAlPEtIAJVPWTppZJ9S3ou2QH75zgDkJrgn0=s64",
      "userId": "01975921740661022202"
     },
     "user_tz": 180
    },
    "id": "Oqtyic2XjWSC",
    "outputId": "11983343-8bac-4072-dad1-f487d689bcbc"
   },
   "outputs": [
    {
     "name": "stderr",
     "output_type": "stream",
     "text": [
      "Using TensorFlow backend.\n",
      "/Users/arodrigues/opt/miniconda3/envs/gpu/lib/python3.7/site-packages/tensorflow/python/framework/dtypes.py:526: FutureWarning: Passing (type, 1) or '1type' as a synonym of type is deprecated; in a future version of numpy, it will be understood as (type, (1,)) / '(1,)type'.\n",
      "  _np_qint8 = np.dtype([(\"qint8\", np.int8, 1)])\n",
      "/Users/arodrigues/opt/miniconda3/envs/gpu/lib/python3.7/site-packages/tensorflow/python/framework/dtypes.py:527: FutureWarning: Passing (type, 1) or '1type' as a synonym of type is deprecated; in a future version of numpy, it will be understood as (type, (1,)) / '(1,)type'.\n",
      "  _np_quint8 = np.dtype([(\"quint8\", np.uint8, 1)])\n",
      "/Users/arodrigues/opt/miniconda3/envs/gpu/lib/python3.7/site-packages/tensorflow/python/framework/dtypes.py:528: FutureWarning: Passing (type, 1) or '1type' as a synonym of type is deprecated; in a future version of numpy, it will be understood as (type, (1,)) / '(1,)type'.\n",
      "  _np_qint16 = np.dtype([(\"qint16\", np.int16, 1)])\n",
      "/Users/arodrigues/opt/miniconda3/envs/gpu/lib/python3.7/site-packages/tensorflow/python/framework/dtypes.py:529: FutureWarning: Passing (type, 1) or '1type' as a synonym of type is deprecated; in a future version of numpy, it will be understood as (type, (1,)) / '(1,)type'.\n",
      "  _np_quint16 = np.dtype([(\"quint16\", np.uint16, 1)])\n",
      "/Users/arodrigues/opt/miniconda3/envs/gpu/lib/python3.7/site-packages/tensorflow/python/framework/dtypes.py:530: FutureWarning: Passing (type, 1) or '1type' as a synonym of type is deprecated; in a future version of numpy, it will be understood as (type, (1,)) / '(1,)type'.\n",
      "  _np_qint32 = np.dtype([(\"qint32\", np.int32, 1)])\n",
      "/Users/arodrigues/opt/miniconda3/envs/gpu/lib/python3.7/site-packages/tensorflow/python/framework/dtypes.py:535: FutureWarning: Passing (type, 1) or '1type' as a synonym of type is deprecated; in a future version of numpy, it will be understood as (type, (1,)) / '(1,)type'.\n",
      "  np_resource = np.dtype([(\"resource\", np.ubyte, 1)])\n"
     ]
    }
   ],
   "source": [
    "import numpy as np \n",
    "import pandas as pd \n",
    "import matplotlib.pyplot as plt\n",
    "from matplotlib import pyplot\n",
    "import math\n",
    "import time\n",
    "\n",
    "from keras.models import Sequential, load_model\n",
    "from keras.layers import Dense, Embedding, LSTM, Dropout\n",
    "from sklearn.model_selection import train_test_split\n",
    "from keras.utils.np_utils import to_categorical\n",
    "from sklearn.preprocessing import MinMaxScaler\n",
    "from sklearn.metrics import mean_squared_error\n",
    "from keras import optimizers\n",
    "\n",
    "from keras.callbacks import ModelCheckpoint, EarlyStopping\n",
    "\n",
    "import warnings\n",
    "warnings.filterwarnings('ignore')"
   ]
  },
  {
   "cell_type": "markdown",
   "metadata": {},
   "source": [
    "## 1) Leitura do dataset pelo Pandas"
   ]
  },
  {
   "cell_type": "code",
   "execution_count": null,
   "metadata": {
    "colab": {},
    "colab_type": "code",
    "id": "XBAMfj4Ajim9"
   },
   "outputs": [],
   "source": [
    "# from google.colab import drive\n",
    "# drive.mount('/content/drive')\n",
    "# !ls \"/content/drive/My Drive/datasets\"\n",
    "# df = pd.read_csv('/content/drive/My Drive/datasets/BVMF3.SA.csv',sep=';') # faz a leitura dos dados\n",
    "\n",
    "df = pd.read_csv('BVMF3.SA.csv',sep=',') # faz a leitura dos dados"
   ]
  },
  {
   "cell_type": "code",
   "execution_count": null,
   "metadata": {
    "colab": {
     "base_uri": "https://localhost:8080/",
     "height": 191
    },
    "colab_type": "code",
    "executionInfo": {
     "elapsed": 601,
     "status": "ok",
     "timestamp": 1576933972235,
     "user": {
      "displayName": "André Rodrigues",
      "photoUrl": "https://lh3.googleusercontent.com/a-/AAuE7mC4VcoLAlPEtIAJVPWTppZJ9S3ou2QH75zgDkJrgn0=s64",
      "userId": "01975921740661022202"
     },
     "user_tz": 180
    },
    "id": "ih7IOzj5lS97",
    "outputId": "a7d81e83-cda0-4d20-88d8-4e54baf2dd79"
   },
   "outputs": [
    {
     "data": {
      "text/html": [
       "<div>\n",
       "<style scoped>\n",
       "    .dataframe tbody tr th:only-of-type {\n",
       "        vertical-align: middle;\n",
       "    }\n",
       "\n",
       "    .dataframe tbody tr th {\n",
       "        vertical-align: top;\n",
       "    }\n",
       "\n",
       "    .dataframe thead th {\n",
       "        text-align: right;\n",
       "    }\n",
       "</style>\n",
       "<table border=\"1\" class=\"dataframe\">\n",
       "  <thead>\n",
       "    <tr style=\"text-align: right;\">\n",
       "      <th></th>\n",
       "      <th>BVMF3.SA.Open</th>\n",
       "      <th>BVMF3.SA.High</th>\n",
       "      <th>BVMF3.SA.Low</th>\n",
       "      <th>BVMF3.SA.Close</th>\n",
       "      <th>BVMF3.SA.Volume</th>\n",
       "      <th>BVMF3.SA.Adjusted</th>\n",
       "      <th>Day</th>\n",
       "    </tr>\n",
       "  </thead>\n",
       "  <tbody>\n",
       "    <tr>\n",
       "      <th>0</th>\n",
       "      <td>11.90</td>\n",
       "      <td>12.10</td>\n",
       "      <td>11.80</td>\n",
       "      <td>12.07</td>\n",
       "      <td>5065.0</td>\n",
       "      <td>9.231656</td>\n",
       "      <td>2011-05-09</td>\n",
       "    </tr>\n",
       "    <tr>\n",
       "      <th>1</th>\n",
       "      <td>NaN</td>\n",
       "      <td>NaN</td>\n",
       "      <td>NaN</td>\n",
       "      <td>NaN</td>\n",
       "      <td>NaN</td>\n",
       "      <td>NaN</td>\n",
       "      <td>2011-05-10</td>\n",
       "    </tr>\n",
       "    <tr>\n",
       "      <th>2</th>\n",
       "      <td>12.07</td>\n",
       "      <td>12.10</td>\n",
       "      <td>11.75</td>\n",
       "      <td>11.80</td>\n",
       "      <td>14752500.0</td>\n",
       "      <td>9.025148</td>\n",
       "      <td>2011-05-11</td>\n",
       "    </tr>\n",
       "    <tr>\n",
       "      <th>3</th>\n",
       "      <td>11.70</td>\n",
       "      <td>11.86</td>\n",
       "      <td>11.61</td>\n",
       "      <td>11.70</td>\n",
       "      <td>7371700.0</td>\n",
       "      <td>8.948664</td>\n",
       "      <td>2011-05-12</td>\n",
       "    </tr>\n",
       "    <tr>\n",
       "      <th>4</th>\n",
       "      <td>11.63</td>\n",
       "      <td>11.65</td>\n",
       "      <td>11.33</td>\n",
       "      <td>11.54</td>\n",
       "      <td>12827000.0</td>\n",
       "      <td>8.826286</td>\n",
       "      <td>2011-05-13</td>\n",
       "    </tr>\n",
       "  </tbody>\n",
       "</table>\n",
       "</div>"
      ],
      "text/plain": [
       "   BVMF3.SA.Open  BVMF3.SA.High  BVMF3.SA.Low  BVMF3.SA.Close  \\\n",
       "0          11.90          12.10         11.80           12.07   \n",
       "1            NaN            NaN           NaN             NaN   \n",
       "2          12.07          12.10         11.75           11.80   \n",
       "3          11.70          11.86         11.61           11.70   \n",
       "4          11.63          11.65         11.33           11.54   \n",
       "\n",
       "   BVMF3.SA.Volume  BVMF3.SA.Adjusted         Day  \n",
       "0           5065.0           9.231656  2011-05-09  \n",
       "1              NaN                NaN  2011-05-10  \n",
       "2       14752500.0           9.025148  2011-05-11  \n",
       "3        7371700.0           8.948664  2011-05-12  \n",
       "4       12827000.0           8.826286  2011-05-13  "
      ]
     },
     "execution_count": 4,
     "metadata": {
      "tags": []
     },
     "output_type": "execute_result"
    }
   ],
   "source": [
    "df.head()"
   ]
  },
  {
   "cell_type": "markdown",
   "metadata": {},
   "source": [
    "### a) Vamos renomear as colunas"
   ]
  },
  {
   "cell_type": "code",
   "execution_count": null,
   "metadata": {
    "colab": {
     "base_uri": "https://localhost:8080/",
     "height": 391
    },
    "colab_type": "code",
    "executionInfo": {
     "elapsed": 902,
     "status": "ok",
     "timestamp": 1576934698922,
     "user": {
      "displayName": "André Rodrigues",
      "photoUrl": "https://lh3.googleusercontent.com/a-/AAuE7mC4VcoLAlPEtIAJVPWTppZJ9S3ou2QH75zgDkJrgn0=s64",
      "userId": "01975921740661022202"
     },
     "user_tz": 180
    },
    "id": "pdtjKg51lTOz",
    "outputId": "a9109a8e-9771-4ee9-e8f3-5f89c29666f6"
   },
   "outputs": [
    {
     "data": {
      "text/html": [
       "<div>\n",
       "<style scoped>\n",
       "    .dataframe tbody tr th:only-of-type {\n",
       "        vertical-align: middle;\n",
       "    }\n",
       "\n",
       "    .dataframe tbody tr th {\n",
       "        vertical-align: top;\n",
       "    }\n",
       "\n",
       "    .dataframe thead th {\n",
       "        text-align: right;\n",
       "    }\n",
       "</style>\n",
       "<table border=\"1\" class=\"dataframe\">\n",
       "  <thead>\n",
       "    <tr style=\"text-align: right;\">\n",
       "      <th></th>\n",
       "      <th>open</th>\n",
       "      <th>high</th>\n",
       "      <th>low</th>\n",
       "      <th>close</th>\n",
       "      <th>volume</th>\n",
       "      <th>adjusted</th>\n",
       "      <th>day</th>\n",
       "    </tr>\n",
       "  </thead>\n",
       "  <tbody>\n",
       "    <tr>\n",
       "      <th>0</th>\n",
       "      <td>11.900000</td>\n",
       "      <td>12.100000</td>\n",
       "      <td>11.800000</td>\n",
       "      <td>12.070000</td>\n",
       "      <td>5065.0</td>\n",
       "      <td>9.231656</td>\n",
       "      <td>2011-05-09</td>\n",
       "    </tr>\n",
       "    <tr>\n",
       "      <th>1</th>\n",
       "      <td>NaN</td>\n",
       "      <td>NaN</td>\n",
       "      <td>NaN</td>\n",
       "      <td>NaN</td>\n",
       "      <td>NaN</td>\n",
       "      <td>NaN</td>\n",
       "      <td>2011-05-10</td>\n",
       "    </tr>\n",
       "    <tr>\n",
       "      <th>2</th>\n",
       "      <td>12.070000</td>\n",
       "      <td>12.100000</td>\n",
       "      <td>11.750000</td>\n",
       "      <td>11.800000</td>\n",
       "      <td>14752500.0</td>\n",
       "      <td>9.025148</td>\n",
       "      <td>2011-05-11</td>\n",
       "    </tr>\n",
       "    <tr>\n",
       "      <th>3</th>\n",
       "      <td>11.700000</td>\n",
       "      <td>11.860000</td>\n",
       "      <td>11.610000</td>\n",
       "      <td>11.700000</td>\n",
       "      <td>7371700.0</td>\n",
       "      <td>8.948664</td>\n",
       "      <td>2011-05-12</td>\n",
       "    </tr>\n",
       "    <tr>\n",
       "      <th>4</th>\n",
       "      <td>11.630000</td>\n",
       "      <td>11.650000</td>\n",
       "      <td>11.330000</td>\n",
       "      <td>11.540000</td>\n",
       "      <td>12827000.0</td>\n",
       "      <td>8.826286</td>\n",
       "      <td>2011-05-13</td>\n",
       "    </tr>\n",
       "    <tr>\n",
       "      <th>...</th>\n",
       "      <td>...</td>\n",
       "      <td>...</td>\n",
       "      <td>...</td>\n",
       "      <td>...</td>\n",
       "      <td>...</td>\n",
       "      <td>...</td>\n",
       "      <td>...</td>\n",
       "    </tr>\n",
       "    <tr>\n",
       "      <th>1623</th>\n",
       "      <td>23.389999</td>\n",
       "      <td>23.930000</td>\n",
       "      <td>23.240000</td>\n",
       "      <td>23.680000</td>\n",
       "      <td>7008800.0</td>\n",
       "      <td>23.599579</td>\n",
       "      <td>2017-11-17</td>\n",
       "    </tr>\n",
       "    <tr>\n",
       "      <th>1624</th>\n",
       "      <td>23.680000</td>\n",
       "      <td>23.680000</td>\n",
       "      <td>23.680000</td>\n",
       "      <td>23.680000</td>\n",
       "      <td>0.0</td>\n",
       "      <td>23.599579</td>\n",
       "      <td>2017-11-20</td>\n",
       "    </tr>\n",
       "    <tr>\n",
       "      <th>1625</th>\n",
       "      <td>23.870001</td>\n",
       "      <td>24.510000</td>\n",
       "      <td>23.830000</td>\n",
       "      <td>24.280001</td>\n",
       "      <td>13880900.0</td>\n",
       "      <td>24.197542</td>\n",
       "      <td>2017-11-21</td>\n",
       "    </tr>\n",
       "    <tr>\n",
       "      <th>1626</th>\n",
       "      <td>24.209999</td>\n",
       "      <td>24.590000</td>\n",
       "      <td>24.209999</td>\n",
       "      <td>24.490000</td>\n",
       "      <td>12842900.0</td>\n",
       "      <td>24.490000</td>\n",
       "      <td>2017-11-22</td>\n",
       "    </tr>\n",
       "    <tr>\n",
       "      <th>1627</th>\n",
       "      <td>24.400000</td>\n",
       "      <td>24.629999</td>\n",
       "      <td>24.059999</td>\n",
       "      <td>24.469999</td>\n",
       "      <td>2784700.0</td>\n",
       "      <td>24.469999</td>\n",
       "      <td>2017-11-23</td>\n",
       "    </tr>\n",
       "  </tbody>\n",
       "</table>\n",
       "<p>1628 rows × 7 columns</p>\n",
       "</div>"
      ],
      "text/plain": [
       "           open       high        low      close      volume   adjusted  \\\n",
       "0     11.900000  12.100000  11.800000  12.070000      5065.0   9.231656   \n",
       "1           NaN        NaN        NaN        NaN         NaN        NaN   \n",
       "2     12.070000  12.100000  11.750000  11.800000  14752500.0   9.025148   \n",
       "3     11.700000  11.860000  11.610000  11.700000   7371700.0   8.948664   \n",
       "4     11.630000  11.650000  11.330000  11.540000  12827000.0   8.826286   \n",
       "...         ...        ...        ...        ...         ...        ...   \n",
       "1623  23.389999  23.930000  23.240000  23.680000   7008800.0  23.599579   \n",
       "1624  23.680000  23.680000  23.680000  23.680000         0.0  23.599579   \n",
       "1625  23.870001  24.510000  23.830000  24.280001  13880900.0  24.197542   \n",
       "1626  24.209999  24.590000  24.209999  24.490000  12842900.0  24.490000   \n",
       "1627  24.400000  24.629999  24.059999  24.469999   2784700.0  24.469999   \n",
       "\n",
       "             day  \n",
       "0     2011-05-09  \n",
       "1     2011-05-10  \n",
       "2     2011-05-11  \n",
       "3     2011-05-12  \n",
       "4     2011-05-13  \n",
       "...          ...  \n",
       "1623  2017-11-17  \n",
       "1624  2017-11-20  \n",
       "1625  2017-11-21  \n",
       "1626  2017-11-22  \n",
       "1627  2017-11-23  \n",
       "\n",
       "[1628 rows x 7 columns]"
      ]
     },
     "execution_count": 6,
     "metadata": {
      "tags": []
     },
     "output_type": "execute_result"
    }
   ],
   "source": [
    "# df.columns = df.columns.str.lower() #change into lower case\n",
    "df.rename(\n",
    "    columns={\n",
    "        'BVMF3.SA.Open':'open'\n",
    "        ,'BVMF3.SA.High':'high'\n",
    "        ,'BVMF3.SA.Low':'low'\n",
    "        ,'BVMF3.SA.Close':'close'\n",
    "        ,'BVMF3.SA.Volume':'volume'\n",
    "        ,'BVMF3.SA.Adjusted':'adjusted'\n",
    "        ,'Day':'day'}\n",
    "    , inplace=True\n",
    ")\n",
    "df"
   ]
  },
  {
   "cell_type": "markdown",
   "metadata": {},
   "source": [
    "### b) Verificando se há dados faltantes e preenchendo com a média"
   ]
  },
  {
   "cell_type": "code",
   "execution_count": null,
   "metadata": {
    "colab": {},
    "colab_type": "code",
    "id": "WIXw5sDRCJAY",
    "outputId": "387c0c02-2b9b-4157-bbd6-7f51d487a466"
   },
   "outputs": [
    {
     "name": "stdout",
     "output_type": "stream",
     "text": [
      "<class 'pandas.core.frame.DataFrame'>\n",
      "RangeIndex: 1628 entries, 0 to 1627\n",
      "Data columns (total 7 columns):\n",
      "open        1602 non-null float64\n",
      "high        1602 non-null float64\n",
      "low         1602 non-null float64\n",
      "close       1602 non-null float64\n",
      "volume      1602 non-null float64\n",
      "adjusted    1602 non-null float64\n",
      "day         1628 non-null object\n",
      "dtypes: float64(6), object(1)\n",
      "memory usage: 89.2+ KB\n"
     ]
    }
   ],
   "source": [
    "df.info()"
   ]
  },
  {
   "cell_type": "code",
   "execution_count": null,
   "metadata": {
    "colab": {
     "base_uri": "https://localhost:8080/",
     "height": 163
    },
    "colab_type": "code",
    "executionInfo": {
     "elapsed": 669,
     "status": "ok",
     "timestamp": 1576935193296,
     "user": {
      "displayName": "André Rodrigues",
      "photoUrl": "https://lh3.googleusercontent.com/a-/AAuE7mC4VcoLAlPEtIAJVPWTppZJ9S3ou2QH75zgDkJrgn0=s64",
      "userId": "01975921740661022202"
     },
     "user_tz": 180
    },
    "id": "Ud4LoMj2pv33",
    "outputId": "38486eb9-3507-4605-a82b-d022d978b104"
   },
   "outputs": [
    {
     "name": "stdout",
     "output_type": "stream",
     "text": [
      "\u001b[1;31m Valores Faltantes antes do tratamento dos dados: \u001b[0;0m \n",
      " open        26\n",
      "high        26\n",
      "low         26\n",
      "close       26\n",
      "volume      26\n",
      "adjusted    26\n",
      "day          0\n",
      "dtype: int64 \n",
      "\n"
     ]
    }
   ],
   "source": [
    "print('\\033[1;31m Valores Faltantes antes do tratamento dos dados: \\033[0;0m', '\\n',df.isna().sum(), '\\n')"
   ]
  },
  {
   "cell_type": "code",
   "execution_count": null,
   "metadata": {
    "colab": {
     "base_uri": "https://localhost:8080/",
     "height": 553
    },
    "colab_type": "code",
    "executionInfo": {
     "elapsed": 625,
     "status": "ok",
     "timestamp": 1576935475608,
     "user": {
      "displayName": "André Rodrigues",
      "photoUrl": "https://lh3.googleusercontent.com/a-/AAuE7mC4VcoLAlPEtIAJVPWTppZJ9S3ou2QH75zgDkJrgn0=s64",
      "userId": "01975921740661022202"
     },
     "user_tz": 180
    },
    "id": "OvEURfCxqwoJ",
    "outputId": "011410e2-442d-4430-b567-8bf0356a1a33"
   },
   "outputs": [
    {
     "data": {
      "text/html": [
       "<div>\n",
       "<style scoped>\n",
       "    .dataframe tbody tr th:only-of-type {\n",
       "        vertical-align: middle;\n",
       "    }\n",
       "\n",
       "    .dataframe tbody tr th {\n",
       "        vertical-align: top;\n",
       "    }\n",
       "\n",
       "    .dataframe thead th {\n",
       "        text-align: right;\n",
       "    }\n",
       "</style>\n",
       "<table border=\"1\" class=\"dataframe\">\n",
       "  <thead>\n",
       "    <tr style=\"text-align: right;\">\n",
       "      <th></th>\n",
       "      <th>open</th>\n",
       "      <th>high</th>\n",
       "      <th>low</th>\n",
       "      <th>close</th>\n",
       "      <th>volume</th>\n",
       "      <th>adjusted</th>\n",
       "      <th>day</th>\n",
       "    </tr>\n",
       "  </thead>\n",
       "  <tbody>\n",
       "    <tr>\n",
       "      <th>0</th>\n",
       "      <td>11.900000</td>\n",
       "      <td>12.100000</td>\n",
       "      <td>11.800000</td>\n",
       "      <td>12.070000</td>\n",
       "      <td>5065.00</td>\n",
       "      <td>9.231656</td>\n",
       "      <td>2011-05-09</td>\n",
       "    </tr>\n",
       "    <tr>\n",
       "      <th>1</th>\n",
       "      <td>13.430000</td>\n",
       "      <td>13.630000</td>\n",
       "      <td>13.230000</td>\n",
       "      <td>13.440000</td>\n",
       "      <td>12207226.91</td>\n",
       "      <td>12.110000</td>\n",
       "      <td>2011-05-10</td>\n",
       "    </tr>\n",
       "    <tr>\n",
       "      <th>2</th>\n",
       "      <td>12.070000</td>\n",
       "      <td>12.100000</td>\n",
       "      <td>11.750000</td>\n",
       "      <td>11.800000</td>\n",
       "      <td>14752500.00</td>\n",
       "      <td>9.025148</td>\n",
       "      <td>2011-05-11</td>\n",
       "    </tr>\n",
       "    <tr>\n",
       "      <th>3</th>\n",
       "      <td>11.700000</td>\n",
       "      <td>11.860000</td>\n",
       "      <td>11.610000</td>\n",
       "      <td>11.700000</td>\n",
       "      <td>7371700.00</td>\n",
       "      <td>8.948664</td>\n",
       "      <td>2011-05-12</td>\n",
       "    </tr>\n",
       "    <tr>\n",
       "      <th>4</th>\n",
       "      <td>11.630000</td>\n",
       "      <td>11.650000</td>\n",
       "      <td>11.330000</td>\n",
       "      <td>11.540000</td>\n",
       "      <td>12827000.00</td>\n",
       "      <td>8.826286</td>\n",
       "      <td>2011-05-13</td>\n",
       "    </tr>\n",
       "    <tr>\n",
       "      <th>...</th>\n",
       "      <td>...</td>\n",
       "      <td>...</td>\n",
       "      <td>...</td>\n",
       "      <td>...</td>\n",
       "      <td>...</td>\n",
       "      <td>...</td>\n",
       "      <td>...</td>\n",
       "    </tr>\n",
       "    <tr>\n",
       "      <th>1623</th>\n",
       "      <td>23.389999</td>\n",
       "      <td>23.930000</td>\n",
       "      <td>23.240000</td>\n",
       "      <td>23.680000</td>\n",
       "      <td>7008800.00</td>\n",
       "      <td>23.599579</td>\n",
       "      <td>2017-11-17</td>\n",
       "    </tr>\n",
       "    <tr>\n",
       "      <th>1624</th>\n",
       "      <td>23.680000</td>\n",
       "      <td>23.680000</td>\n",
       "      <td>23.680000</td>\n",
       "      <td>23.680000</td>\n",
       "      <td>0.00</td>\n",
       "      <td>23.599579</td>\n",
       "      <td>2017-11-20</td>\n",
       "    </tr>\n",
       "    <tr>\n",
       "      <th>1625</th>\n",
       "      <td>23.870001</td>\n",
       "      <td>24.510000</td>\n",
       "      <td>23.830000</td>\n",
       "      <td>24.280001</td>\n",
       "      <td>13880900.00</td>\n",
       "      <td>24.197542</td>\n",
       "      <td>2017-11-21</td>\n",
       "    </tr>\n",
       "    <tr>\n",
       "      <th>1626</th>\n",
       "      <td>24.209999</td>\n",
       "      <td>24.590000</td>\n",
       "      <td>24.209999</td>\n",
       "      <td>24.490000</td>\n",
       "      <td>12842900.00</td>\n",
       "      <td>24.490000</td>\n",
       "      <td>2017-11-22</td>\n",
       "    </tr>\n",
       "    <tr>\n",
       "      <th>1627</th>\n",
       "      <td>24.400000</td>\n",
       "      <td>24.629999</td>\n",
       "      <td>24.059999</td>\n",
       "      <td>24.469999</td>\n",
       "      <td>2784700.00</td>\n",
       "      <td>24.469999</td>\n",
       "      <td>2017-11-23</td>\n",
       "    </tr>\n",
       "  </tbody>\n",
       "</table>\n",
       "<p>1628 rows × 7 columns</p>\n",
       "</div>"
      ],
      "text/plain": [
       "           open       high        low      close       volume   adjusted  \\\n",
       "0     11.900000  12.100000  11.800000  12.070000      5065.00   9.231656   \n",
       "1     13.430000  13.630000  13.230000  13.440000  12207226.91  12.110000   \n",
       "2     12.070000  12.100000  11.750000  11.800000  14752500.00   9.025148   \n",
       "3     11.700000  11.860000  11.610000  11.700000   7371700.00   8.948664   \n",
       "4     11.630000  11.650000  11.330000  11.540000  12827000.00   8.826286   \n",
       "...         ...        ...        ...        ...          ...        ...   \n",
       "1623  23.389999  23.930000  23.240000  23.680000   7008800.00  23.599579   \n",
       "1624  23.680000  23.680000  23.680000  23.680000         0.00  23.599579   \n",
       "1625  23.870001  24.510000  23.830000  24.280001  13880900.00  24.197542   \n",
       "1626  24.209999  24.590000  24.209999  24.490000  12842900.00  24.490000   \n",
       "1627  24.400000  24.629999  24.059999  24.469999   2784700.00  24.469999   \n",
       "\n",
       "             day  \n",
       "0     2011-05-09  \n",
       "1     2011-05-10  \n",
       "2     2011-05-11  \n",
       "3     2011-05-12  \n",
       "4     2011-05-13  \n",
       "...          ...  \n",
       "1623  2017-11-17  \n",
       "1624  2017-11-20  \n",
       "1625  2017-11-21  \n",
       "1626  2017-11-22  \n",
       "1627  2017-11-23  \n",
       "\n",
       "[1628 rows x 7 columns]"
      ]
     },
     "execution_count": 10,
     "metadata": {
      "tags": []
     },
     "output_type": "execute_result"
    }
   ],
   "source": [
    "#Fill missed numerical data with mean:\n",
    "\n",
    "df.update(df.fillna((np.around(np.mean(df),2))))\n",
    "df"
   ]
  },
  {
   "cell_type": "code",
   "execution_count": null,
   "metadata": {
    "colab": {
     "base_uri": "https://localhost:8080/",
     "height": 98
    },
    "colab_type": "code",
    "executionInfo": {
     "elapsed": 597,
     "status": "ok",
     "timestamp": 1576935503262,
     "user": {
      "displayName": "André Rodrigues",
      "photoUrl": "https://lh3.googleusercontent.com/a-/AAuE7mC4VcoLAlPEtIAJVPWTppZJ9S3ou2QH75zgDkJrgn0=s64",
      "userId": "01975921740661022202"
     },
     "user_tz": 180
    },
    "id": "8obUf4PBqgeY",
    "outputId": "765aad78-ff3e-4f4e-b4df-def63df17fe3"
   },
   "outputs": [
    {
     "name": "stdout",
     "output_type": "stream",
     "text": [
      "\u001b[1;31m Valores Duplicados: \n",
      " \u001b[0;0m Empty DataFrame\n",
      "Columns: [open, high, low, close, volume, adjusted, day]\n",
      "Index: [] \n",
      "\n"
     ]
    }
   ],
   "source": [
    "print('\\033[1;31m Valores Duplicados:', '\\n \\033[0;0m', df[df.duplicated()], '\\n')"
   ]
  },
  {
   "cell_type": "code",
   "execution_count": null,
   "metadata": {
    "colab": {},
    "colab_type": "code",
    "id": "o1zFrAmpqgxj",
    "outputId": "21f0cc4b-b6c3-44f3-f6b2-8b3a0710785f"
   },
   "outputs": [
    {
     "data": {
      "text/html": [
       "<div>\n",
       "<style scoped>\n",
       "    .dataframe tbody tr th:only-of-type {\n",
       "        vertical-align: middle;\n",
       "    }\n",
       "\n",
       "    .dataframe tbody tr th {\n",
       "        vertical-align: top;\n",
       "    }\n",
       "\n",
       "    .dataframe thead th {\n",
       "        text-align: right;\n",
       "    }\n",
       "</style>\n",
       "<table border=\"1\" class=\"dataframe\">\n",
       "  <thead>\n",
       "    <tr style=\"text-align: right;\">\n",
       "      <th></th>\n",
       "      <th>open</th>\n",
       "      <th>high</th>\n",
       "      <th>low</th>\n",
       "      <th>close</th>\n",
       "      <th>volume</th>\n",
       "      <th>adjusted</th>\n",
       "    </tr>\n",
       "  </thead>\n",
       "  <tbody>\n",
       "    <tr>\n",
       "      <th>count</th>\n",
       "      <td>1628.000000</td>\n",
       "      <td>1628.000000</td>\n",
       "      <td>1628.000000</td>\n",
       "      <td>1628.000000</td>\n",
       "      <td>1.628000e+03</td>\n",
       "      <td>1628.000000</td>\n",
       "    </tr>\n",
       "    <tr>\n",
       "      <th>mean</th>\n",
       "      <td>13.432107</td>\n",
       "      <td>13.630713</td>\n",
       "      <td>13.234337</td>\n",
       "      <td>13.438077</td>\n",
       "      <td>1.220723e+07</td>\n",
       "      <td>12.107023</td>\n",
       "    </tr>\n",
       "    <tr>\n",
       "      <th>std</th>\n",
       "      <td>3.734740</td>\n",
       "      <td>3.763399</td>\n",
       "      <td>3.701464</td>\n",
       "      <td>3.739152</td>\n",
       "      <td>9.645915e+06</td>\n",
       "      <td>4.298520</td>\n",
       "    </tr>\n",
       "    <tr>\n",
       "      <th>min</th>\n",
       "      <td>7.850000</td>\n",
       "      <td>8.060000</td>\n",
       "      <td>7.500000</td>\n",
       "      <td>7.800000</td>\n",
       "      <td>0.000000e+00</td>\n",
       "      <td>5.985022</td>\n",
       "    </tr>\n",
       "    <tr>\n",
       "      <th>25%</th>\n",
       "      <td>10.730000</td>\n",
       "      <td>10.937500</td>\n",
       "      <td>10.540000</td>\n",
       "      <td>10.727500</td>\n",
       "      <td>7.568475e+06</td>\n",
       "      <td>9.174831</td>\n",
       "    </tr>\n",
       "    <tr>\n",
       "      <th>50%</th>\n",
       "      <td>12.130000</td>\n",
       "      <td>12.295000</td>\n",
       "      <td>11.970000</td>\n",
       "      <td>12.150000</td>\n",
       "      <td>1.053945e+07</td>\n",
       "      <td>10.629043</td>\n",
       "    </tr>\n",
       "    <tr>\n",
       "      <th>75%</th>\n",
       "      <td>15.620000</td>\n",
       "      <td>15.885000</td>\n",
       "      <td>15.390000</td>\n",
       "      <td>15.642500</td>\n",
       "      <td>1.436538e+07</td>\n",
       "      <td>15.164800</td>\n",
       "    </tr>\n",
       "    <tr>\n",
       "      <th>max</th>\n",
       "      <td>25.299999</td>\n",
       "      <td>25.799999</td>\n",
       "      <td>24.879999</td>\n",
       "      <td>25.250000</td>\n",
       "      <td>2.072703e+08</td>\n",
       "      <td>25.164248</td>\n",
       "    </tr>\n",
       "  </tbody>\n",
       "</table>\n",
       "</div>"
      ],
      "text/plain": [
       "              open         high          low        close        volume  \\\n",
       "count  1628.000000  1628.000000  1628.000000  1628.000000  1.628000e+03   \n",
       "mean     13.432107    13.630713    13.234337    13.438077  1.220723e+07   \n",
       "std       3.734740     3.763399     3.701464     3.739152  9.645915e+06   \n",
       "min       7.850000     8.060000     7.500000     7.800000  0.000000e+00   \n",
       "25%      10.730000    10.937500    10.540000    10.727500  7.568475e+06   \n",
       "50%      12.130000    12.295000    11.970000    12.150000  1.053945e+07   \n",
       "75%      15.620000    15.885000    15.390000    15.642500  1.436538e+07   \n",
       "max      25.299999    25.799999    24.879999    25.250000  2.072703e+08   \n",
       "\n",
       "          adjusted  \n",
       "count  1628.000000  \n",
       "mean     12.107023  \n",
       "std       4.298520  \n",
       "min       5.985022  \n",
       "25%       9.174831  \n",
       "50%      10.629043  \n",
       "75%      15.164800  \n",
       "max      25.164248  "
      ]
     },
     "execution_count": 14,
     "metadata": {
      "tags": []
     },
     "output_type": "execute_result"
    }
   ],
   "source": [
    "df.describe()"
   ]
  },
  {
   "cell_type": "markdown",
   "metadata": {},
   "source": [
    "## 2) Visualizaçãd dos dados"
   ]
  },
  {
   "cell_type": "code",
   "execution_count": null,
   "metadata": {
    "colab": {},
    "colab_type": "code",
    "id": "bj9WKuNtCJAp",
    "outputId": "da216cd4-b695-414a-d5ad-19fb74810e00"
   },
   "outputs": [
    {
     "data": {
      "image/png": "[encoded data removed]",
      "text/plain": [
       "<Figure size 432x288 with 6 Axes>"
      ]
     },
     "metadata": {
      "needs_background": "light",
      "tags": []
     },
     "output_type": "display_data"
    }
   ],
   "source": [
    "# specify columns to plot\n",
    "groups = [0, 1, 2, 3, 4, 5]\n",
    "i=1\n",
    "values = df.values\n",
    "\n",
    "# plot each column\n",
    "pyplot.figure()\n",
    "for group in groups:\n",
    "    pyplot.subplot(len(groups), 1, i)\n",
    "    pyplot.plot(values[:, group])\n",
    "    pyplot.title(df.columns[group], y=0.5, loc='right')\n",
    "    i += 1\n",
    "pyplot.show()"
   ]
  },
  {
   "cell_type": "code",
   "execution_count": null,
   "metadata": {
    "colab": {},
    "colab_type": "code",
    "id": "iWFwQgZ3CJAr",
    "outputId": "117adf08-539d-4649-a7b7-2f7dd8968e96"
   },
   "outputs": [
    {
     "data": {
      "image/png": "[encoded data removed]",
      "text/plain": [
       "<Figure size 432x288 with 1 Axes>"
      ]
     },
     "metadata": {
      "needs_background": "light",
      "tags": []
     },
     "output_type": "display_data"
    }
   ],
   "source": [
    "plt.figure()\n",
    "plt.plot(df[\"open\"])\n",
    "plt.plot(df[\"high\"])\n",
    "plt.plot(df[\"low\"])\n",
    "plt.plot(df[\"close\"])\n",
    "plt.title('BVMF3.SA - Historico de Preço')\n",
    "plt.ylabel('Indice BVMF3')\n",
    "plt.xlabel('Dias')\n",
    "plt.legend(['abertura','alta','baixa','fechamento'], loc='upper left')\n",
    "plt.show()"
   ]
  },
  {
   "cell_type": "markdown",
   "metadata": {
    "colab_type": "text",
    "id": "R0bTBUZ3CJAt"
   },
   "source": [
    "Now let’s check out the plot for volume :"
   ]
  },
  {
   "cell_type": "code",
   "execution_count": null,
   "metadata": {
    "colab": {},
    "colab_type": "code",
    "id": "WW2BqMhLCJAu",
    "outputId": "e790de66-82f9-437f-b8c6-8cb2a46b0a27"
   },
   "outputs": [
    {
     "data": {
      "image/png": "[encoded data removed]",
      "text/plain": [
       "<Figure size 432x288 with 1 Axes>"
      ]
     },
     "metadata": {
      "needs_background": "light",
      "tags": []
     },
     "output_type": "display_data"
    }
   ],
   "source": [
    "plt.figure()\n",
    "plt.plot(df[\"volume\"])\n",
    "plt.title('BVMF3.SA Historico por Volume')\n",
    "plt.ylabel('Volume')\n",
    "plt.xlabel('Days')\n",
    "plt.show()"
   ]
  },
  {
   "cell_type": "code",
   "execution_count": null,
   "metadata": {
    "colab": {},
    "colab_type": "code",
    "id": "PJoAxT2fCJAw",
    "outputId": "620a147a-dcb1-4eb3-bea5-5e20fe3961de"
   },
   "outputs": [
    {
     "data": {
      "image/png": "[encoded data removed]",
      "text/plain": [
       "<Figure size 432x288 with 1 Axes>"
      ]
     },
     "metadata": {
      "needs_background": "light",
      "tags": []
     },
     "output_type": "display_data"
    }
   ],
   "source": [
    "plt.figure()\n",
    "plt.plot(df[\"adjusted\"])\n",
    "plt.title('BVMF3.SA Historico por Ajustado')\n",
    "plt.ylabel('Ajustado')\n",
    "plt.xlabel('Days')\n",
    "plt.show()"
   ]
  },
  {
   "cell_type": "code",
   "execution_count": null,
   "metadata": {
    "colab": {},
    "colab_type": "code",
    "id": "sm-d6eTiCJAy"
   },
   "outputs": [],
   "source": [
    "df.drop(columns=['day','adjusted'],axis=1, inplace=True)"
   ]
  },
  {
   "cell_type": "markdown",
   "metadata": {
    "colab_type": "text",
    "id": "v7GiIT4zCJA0"
   },
   "source": [
    "## 3) Modelo de Predição LSTM Forecast Multivariada"
   ]
  },
  {
   "cell_type": "markdown",
   "metadata": {
    "colab_type": "text",
    "id": "zmMOxW9qCJA1"
   },
   "source": [
    "### a) LSTM Data Preparation"
   ]
  },
  {
   "cell_type": "markdown",
   "metadata": {
    "colab_type": "text",
    "id": "uLCn-xWuCJA2"
   },
   "source": [
    "**Após modelar os dados e avaliar o modelo com o conjunto de dados de treino, precisamos ter uma idéia de como será o comportamento do modelo com dados ainda não vistos por ele antes. Numa classificação normal ou problema de regressão, usaríamos o cross validation.**\n",
    "\n",
    "**Com dados de séries temporais, a sequência de valores é importante. Um método simples que podemos usar é separar os dados ordenados entre conjuntos de treino e teste. O código abaixo calcula o índice do ponto de separação e separa os dados entre treinamento e teste.**"
   ]
  },
  {
   "cell_type": "markdown",
   "metadata": {
    "colab_type": "text",
    "id": "u5l0czJfCJA3"
   },
   "source": [
    "**O enunciado pede para prever 30 dias do valor de fechamento a partir do registro 1500 do dataset. Usaremos os primeiros 1500 registros para treino e os demais como teste.**"
   ]
  },
  {
   "cell_type": "code",
   "execution_count": null,
   "metadata": {
    "colab": {},
    "colab_type": "code",
    "id": "fj29eY8aCJA4",
    "outputId": "c6e9f646-4cd1-418e-ef68-a06d26f7f6f0"
   },
   "outputs": [
    {
     "name": "stdout",
     "output_type": "stream",
     "text": [
      "1500 128\n"
     ]
    }
   ],
   "source": [
    "# split into train and test sets\n",
    "train, test = df.iloc[0:1500,:], df.iloc[1500:len(df),:]\n",
    "print(len(train), len(test))"
   ]
  },
  {
   "cell_type": "markdown",
   "metadata": {
    "colab": {},
    "colab_type": "code",
    "id": "v43bTa3vqhB2"
   },
   "source": [
    "#### Os LSTMs são sensíveis à escala dos dados de entrada, especificamente quando as funções de ativação sigmóide (padrão) ou tanh são usadas. Pode ser uma boa prática redimensionar os dados no intervalo de 0 a 1, também chamado de normalização. Podemos normalizar facilmente o conjunto de dados usando a classe de pré-processamento MinMaxScaler da biblioteca scikit-learn."
   ]
  },
  {
   "cell_type": "code",
   "execution_count": null,
   "metadata": {
    "colab": {},
    "colab_type": "code",
    "id": "456eDv6zqhQQ"
   },
   "outputs": [],
   "source": [
    "# normalize the dataset\n",
    "scaler = MinMaxScaler(feature_range=(0, 1))\n",
    "train = scaler.fit_transform(train)\n",
    "test = scaler.fit_transform(test)"
   ]
  },
  {
   "cell_type": "code",
   "execution_count": null,
   "metadata": {
    "colab": {},
    "colab_type": "code",
    "id": "D1tXfx8RCJA-",
    "outputId": "2f32fa99-9708-4af6-ca1a-cc21a6b544ee"
   },
   "outputs": [
    {
     "data": {
      "text/plain": [
       "(1500, 5)"
      ]
     },
     "execution_count": 23,
     "metadata": {
      "tags": []
     },
     "output_type": "execute_result"
    }
   ],
   "source": [
    "train.shape"
   ]
  },
  {
   "cell_type": "code",
   "execution_count": null,
   "metadata": {
    "colab": {},
    "colab_type": "code",
    "id": "EKdofO93CJBA",
    "outputId": "75e4c435-f4ca-441e-9780-c67241b86d5c"
   },
   "outputs": [
    {
     "data": {
      "text/plain": [
       "(128, 5)"
      ]
     },
     "execution_count": 24,
     "metadata": {
      "tags": []
     },
     "output_type": "execute_result"
    }
   ],
   "source": [
    "test.shape"
   ]
  },
  {
   "cell_type": "code",
   "execution_count": null,
   "metadata": {
    "colab": {},
    "colab_type": "code",
    "id": "HREMXt3HCJBB"
   },
   "outputs": [],
   "source": [
    "X_train, y_train = train[:,0:-1], train[:,-1]"
   ]
  },
  {
   "cell_type": "code",
   "execution_count": null,
   "metadata": {
    "colab": {},
    "colab_type": "code",
    "id": "gWUKyXI4CJBD"
   },
   "outputs": [],
   "source": [
    "X_test, y_test = train[:,0:-1], train[:,-1]"
   ]
  },
  {
   "cell_type": "code",
   "execution_count": null,
   "metadata": {
    "colab": {},
    "colab_type": "code",
    "id": "t02hpG7_CJBF",
    "outputId": "27d64758-b896-4dce-eb14-7673f73efeaf"
   },
   "outputs": [
    {
     "name": "stdout",
     "output_type": "stream",
     "text": [
      "\n",
      " X_train.shape: (1500, 4) \n",
      " y_train.shape: (1500,) \n",
      " X_test.shape: (1500, 4) \n",
      " y_test.shape: (1500,) \n",
      "\n"
     ]
    }
   ],
   "source": [
    "print(\"\\n X_train.shape:\", X_train.shape, '\\n', 'y_train.shape:', y_train.shape, '\\n', 'X_test.shape:', X_test.shape, '\\n', 'y_test.shape:', y_test.shape, '\\n')"
   ]
  },
  {
   "cell_type": "markdown",
   "metadata": {
    "colab_type": "text",
    "id": "GSdVN6zWCJBH"
   },
   "source": [
    "### b) Converting data to time-series and supervised learning problem"
   ]
  },
  {
   "cell_type": "markdown",
   "metadata": {
    "colab_type": "text",
    "id": "92Qce3FfCJBI"
   },
   "source": [
    "#### O primeiro passo é preparar o conjunto de dados para o LSTM. Isso envolve enquadrar o conjunto de dados como um problema de aprendizado supervisionado e normalizar as variáveis de entrada."
   ]
  },
  {
   "cell_type": "markdown",
   "metadata": {
    "colab_type": "text",
    "id": "uFRatRknCJBJ"
   },
   "source": [
    "**LSTMs consume input in format [ batch_size, time_steps, Features ]; a 3- dimensional array.**"
   ]
  },
  {
   "cell_type": "markdown",
   "metadata": {
    "colab_type": "text",
    "id": "AzMpiD7tCJBJ"
   },
   "source": [
    "* **Batch Size** diz quantas amostras de entrada você deseja que a sua Rede Neural veja antes de atualizar os pesos. Digamos que você tenha 100 amostras (conjunto de dados de entrada) e deseje atualizar os pesos sempre que seu RN receber uma entrada. Nesse caso, o tamanho do lote seria 1 e o número total de lotes seria 100. Da mesma forma, se você deseja que sua rede atualize os pesos depois de ver todas as amostras, o tamanho do lote será 100 e o número de lotes será 1. O uso de um batch size muito pequeno reduz a velocidade do treinamento, por outro lado, o tamanho de um batch muito grande (como um conjunto de dados inteiro) reduz a capacidade dos modelos de generalizar para dados diferentes e também consome mais memória. Porém, são necessárias menos etapas para encontrar os mínimos para sua função objetivo. Então você precisa experimentar vários valores nos seus dados e encontrar o ponto ideal.\n",
    "\n",
    "* **Time Steps** define quantas unidades no tempo você deseja que sua rede veja. Por exemplo, se você estava trabalhando em um problema de previsão de caracteres no qual possui um corpus de texto para treinar e decide alimentar 6 caracteres de sua rede de cada vez. Então, seu passo de tempo é 6. No nosso caso, usaremos 30 como Time Steps, ou seja, analisaremos 1 mês de dados para prever o preço dos próximos dias. \n",
    "\n",
    "* **Features** é o número de atributos usados para representar cada etapa do tempo. Considere o exemplo de previsão de caracteres acima e suponha que você use um vetor one-hot encoded 100 para representar cada caractere. O tamanho das features aqui é 4."
   ]
  },
  {
   "cell_type": "markdown",
   "metadata": {
    "colab_type": "text",
    "id": "mwPEMtTzCJBK"
   },
   "source": [
    "A rede LSTM espera que os dados de entrada (X) sejam fornecidos com uma estrutura de matriz específica na forma de: [samples, time steps, features].\n",
    "\n",
    "Atualmente, nossos dados estão no formato: [samples, features] e estamos estruturando o problema como uma etapa única para cada amostra. Podemos transformar os dados preparados de entrada de treino e teste na estrutura esperada usando numpy.reshape() do seguinte modo:"
   ]
  },
  {
   "cell_type": "code",
   "execution_count": null,
   "metadata": {
    "colab": {},
    "colab_type": "code",
    "id": "yUUulGIzCJBK"
   },
   "outputs": [],
   "source": [
    "def build_timeseries(mat, y_col_index):\n",
    "    # y_col_index is the index of column that would act as output column\n",
    "    # total number of time-series samples would be len(mat) - TIME_STEPS\n",
    "    dim_0 = mat.shape[0] - TIME_STEPS\n",
    "    dim_1 = mat.shape[1]\n",
    "    x = np.zeros((dim_0, TIME_STEPS, dim_1))\n",
    "    y = np.zeros((dim_0,))\n",
    "    print(\"dim_0\",dim_0)\n",
    "    for i in range(dim_0):\n",
    "        x[i] = mat[i:TIME_STEPS+i]\n",
    "        y[i] = mat[TIME_STEPS+i, y_col_index]\n",
    "    print(\"Tamanho da Série i/o (x, y)\",x.shape,y.shape)\n",
    "    return x, y"
   ]
  },
  {
   "cell_type": "markdown",
   "metadata": {
    "colab_type": "text",
    "id": "ydDOJPQnCJBN"
   },
   "source": [
    "‘y_col_index’ é o índice da sua coluna de saída. Agora, suponha que, após a conversão de dados em um formato de aprendizado supervisionado, como mostrado acima, você tenha 41 amostras no conjunto de dados de treinamento, mas o tamanho do lote seja 20, será necessário aparar (trimmar) o conjunto de treinamento para remover as amostras ímpares deixadas de fora."
   ]
  },
  {
   "cell_type": "code",
   "execution_count": null,
   "metadata": {
    "colab": {},
    "colab_type": "code",
    "id": "Poi9ooSHCJBO"
   },
   "outputs": [],
   "source": [
    "def trim_dataset(mat, batch_size):\n",
    "    \"\"\"\n",
    "    trims dataset to a size that's divisible by BATCH_SIZE\n",
    "    \"\"\"\n",
    "    print(\"Tamanho da Série i/o antes do trim:\", mat.shape)\n",
    "    no_of_rows_drop = mat.shape[0]%batch_size\n",
    "    if(no_of_rows_drop > 0):\n",
    "        print(\"Tamanho da Série i/o depois do trim:\", mat[:-no_of_rows_drop].shape)\n",
    "        return mat[:-no_of_rows_drop]\n",
    "    else:\n",
    "        print(\"Tamanho da Série i/o depois do trim:\", mat.shape)\n",
    "        return mat"
   ]
  },
  {
   "cell_type": "code",
   "execution_count": null,
   "metadata": {
    "colab": {},
    "colab_type": "code",
    "id": "TGJ3ew-6CJBQ"
   },
   "outputs": [],
   "source": [
    "TIME_STEPS = 30\n",
    "BATCH_SIZE = 20\n",
    "EPOCHS = 300"
   ]
  },
  {
   "cell_type": "code",
   "execution_count": null,
   "metadata": {
    "colab": {},
    "colab_type": "code",
    "id": "DxtjVm7MCJBR",
    "outputId": "c6d82093-b86b-4543-ef8f-93f8ee4bf893"
   },
   "outputs": [
    {
     "name": "stdout",
     "output_type": "stream",
     "text": [
      "dim_0 1470\n",
      "Tamanho da Série i/o (x, y) (1470, 30, 4) (1470,)\n"
     ]
    }
   ],
   "source": [
    "x_t, y_t = build_timeseries(X_train, 3)"
   ]
  },
  {
   "cell_type": "code",
   "execution_count": null,
   "metadata": {
    "colab": {},
    "colab_type": "code",
    "id": "Utla_BElCJBT",
    "outputId": "66006cdc-71c3-44f5-da1e-0e5b2f734cb8"
   },
   "outputs": [
    {
     "name": "stdout",
     "output_type": "stream",
     "text": [
      "Tamanho da Série i/o antes do trim: (1470, 30, 4)\n",
      "Tamanho da Série i/o depois do trim: (1460, 30, 4)\n"
     ]
    }
   ],
   "source": [
    "x_t = trim_dataset(x_t, BATCH_SIZE)"
   ]
  },
  {
   "cell_type": "code",
   "execution_count": null,
   "metadata": {
    "colab": {},
    "colab_type": "code",
    "id": "bTw5Psx1CJBU",
    "outputId": "972496f3-7371-4846-84af-bccb23dbcdc9"
   },
   "outputs": [
    {
     "name": "stdout",
     "output_type": "stream",
     "text": [
      "Tamanho da Série i/o antes do trim: (1470,)\n",
      "Tamanho da Série i/o depois do trim: (1460,)\n"
     ]
    }
   ],
   "source": [
    "y_t = trim_dataset(y_t, BATCH_SIZE)"
   ]
  },
  {
   "cell_type": "code",
   "execution_count": null,
   "metadata": {
    "colab": {},
    "colab_type": "code",
    "id": "ptjvVAOXCJBW",
    "outputId": "18d8b2b4-bef8-437b-cb38-4fc2d8bec5a5"
   },
   "outputs": [
    {
     "name": "stdout",
     "output_type": "stream",
     "text": [
      "dim_0 1470\n",
      "Tamanho da Série i/o (x, y) (1470, 30, 4) (1470,)\n"
     ]
    }
   ],
   "source": [
    "x_temp, y_temp = build_timeseries(X_test, 3)"
   ]
  },
  {
   "cell_type": "code",
   "execution_count": null,
   "metadata": {
    "colab": {},
    "colab_type": "code",
    "id": "HLZCuJLRCJBZ",
    "outputId": "b9bc4f63-2017-463b-eb17-b86a98cb0420"
   },
   "outputs": [
    {
     "name": "stdout",
     "output_type": "stream",
     "text": [
      "Tamanho da Série i/o antes do trim: (1470, 30, 4)\n",
      "Tamanho da Série i/o depois do trim: (1460, 30, 4)\n",
      "Tamanho da Série i/o antes do trim: (1470,)\n",
      "Tamanho da Série i/o depois do trim: (1460,)\n"
     ]
    }
   ],
   "source": [
    "x_val, x_test_t = np.split(trim_dataset(x_temp, BATCH_SIZE),2)\n",
    "y_val, y_test_t = np.split(trim_dataset(y_temp, BATCH_SIZE),2)"
   ]
  },
  {
   "cell_type": "code",
   "execution_count": null,
   "metadata": {
    "colab": {},
    "colab_type": "code",
    "id": "gWgHZEeCCJBc",
    "outputId": "cda49cd5-83f7-4fcb-e47e-176a6cb83bb4"
   },
   "outputs": [
    {
     "name": "stdout",
     "output_type": "stream",
     "text": [
      "\n",
      " x_t.shape: (1460, 30, 4) \n",
      " y_t.shape: (1460,) \n",
      " x_val.shape: (730, 30, 4) \n",
      " y_val.shape: (730,) \n",
      " x_test_t.shape: (730, 30, 4) \n",
      " y_test_t.shape: (730,)\n"
     ]
    }
   ],
   "source": [
    "print(\"\\n\", \"x_t.shape:\", x_t.shape, \"\\n\", \"y_t.shape:\", y_t.shape,\"\\n\", \"x_val.shape:\", x_val.shape, \"\\n\", \"y_val.shape:\", y_val.shape, \"\\n\", \"x_test_t.shape:\", x_test_t.shape, '\\n', \"y_test_t.shape:\", y_test_t.shape)"
   ]
  },
  {
   "cell_type": "markdown",
   "metadata": {
    "colab_type": "text",
    "id": "WcCHfz6gCJBe"
   },
   "source": [
    "### c) Definindo e treinando o Modelo"
   ]
  },
  {
   "cell_type": "code",
   "execution_count": null,
   "metadata": {
    "colab": {},
    "colab_type": "code",
    "id": "65Q_BhGHCJBe"
   },
   "outputs": [],
   "source": [
    "def create_model():\n",
    "    \n",
    "    lstm_model = Sequential()\n",
    "\n",
    "    lstm_model.add(LSTM(\n",
    "        100\n",
    "        ,batch_input_shape=(BATCH_SIZE, TIME_STEPS, x_t.shape[2])\n",
    "        ,dropout=0.0\n",
    "        ,recurrent_dropout=0.0\n",
    "        ,stateful=True\n",
    "        ,return_sequences=True\n",
    "        ,kernel_initializer='random_uniform'\n",
    "        ,activation='relu'\n",
    "    ))\n",
    "#     lstm_model.add(Dropout(0.2))\n",
    "    lstm_model.add(LSTM(50, dropout=0.0, return_sequences=True,activation='relu'))\n",
    "#     lstm_model.add(Dropout(0.2))\n",
    "    lstm_model.add(LSTM(25, dropout=0.0,activation='relu'))\n",
    "#     lstm_model.add(Dropout(0.2))\n",
    "    lstm_model.add(Dense(20,activation='relu'))\n",
    "    lstm_model.add(Dense(20,activation='relu'))\n",
    "    lstm_model.add(Dense(1))\n",
    "\n",
    "    optimizer = optimizers.Adam()\n",
    "    lstm_model.compile(loss='mean_squared_error', optimizer=optimizer)\n",
    "    print(lstm_model.summary())\n",
    "    return lstm_model"
   ]
  },
  {
   "cell_type": "code",
   "execution_count": null,
   "metadata": {
    "colab": {},
    "colab_type": "code",
    "id": "Zj1qlqLvCJBf",
    "outputId": "acfd5836-ba02-4875-d638-0b1d9dfad6ac"
   },
   "outputs": [
    {
     "name": "stdout",
     "output_type": "stream",
     "text": [
      "WARNING:tensorflow:From /Users/arodrigues/opt/miniconda3/envs/gpu/lib/python3.7/site-packages/tensorflow/python/framework/op_def_library.py:263: colocate_with (from tensorflow.python.framework.ops) is deprecated and will be removed in a future version.\n",
      "Instructions for updating:\n",
      "Colocations handled automatically by placer.\n",
      "_________________________________________________________________\n",
      "Layer (type)                 Output Shape              Param #   \n",
      "=================================================================\n",
      "lstm_1 (LSTM)                (20, 30, 100)             42000     \n",
      "_________________________________________________________________\n",
      "lstm_2 (LSTM)                (20, 30, 50)              30200     \n",
      "_________________________________________________________________\n",
      "lstm_3 (LSTM)                (20, 25)                  7600      \n",
      "_________________________________________________________________\n",
      "dense_1 (Dense)              (20, 20)                  520       \n",
      "_________________________________________________________________\n",
      "dense_2 (Dense)              (20, 20)                  420       \n",
      "_________________________________________________________________\n",
      "dense_3 (Dense)              (20, 1)                   21        \n",
      "=================================================================\n",
      "Total params: 80,761\n",
      "Trainable params: 80,761\n",
      "Non-trainable params: 0\n",
      "_________________________________________________________________\n",
      "None\n"
     ]
    }
   ],
   "source": [
    "model = create_model()"
   ]
  },
  {
   "cell_type": "code",
   "execution_count": null,
   "metadata": {
    "colab": {},
    "colab_type": "code",
    "id": "xMlhf_fRCJBh"
   },
   "outputs": [],
   "source": [
    "es = EarlyStopping(\n",
    "    monitor='val_loss'\n",
    "    , mode='min'\n",
    "    , verbose=1\n",
    "    ,patience=40\n",
    "    , min_delta=0.0001\n",
    ")"
   ]
  },
  {
   "cell_type": "code",
   "execution_count": null,
   "metadata": {
    "colab": {},
    "colab_type": "code",
    "id": "2MP0gCfCCJBj"
   },
   "outputs": [],
   "source": [
    "mcp = ModelCheckpoint( \n",
    "    \"best_model_v05.h5\"\n",
    "    , monitor='val_loss'\n",
    "    , verbose=1\n",
    "    ,save_best_only=True\n",
    "    , save_weights_only=False\n",
    "    , mode='min'\n",
    "    , period=1\n",
    ")"
   ]
  },
  {
   "cell_type": "code",
   "execution_count": null,
   "metadata": {
    "colab": {},
    "colab_type": "code",
    "id": "M6l3xdRGCJBm",
    "outputId": "e5ade177-08d3-4f56-ba81-1862f44d16c5"
   },
   "outputs": [
    {
     "name": "stdout",
     "output_type": "stream",
     "text": [
      "Tamanho da Série i/o antes do trim: (730, 30, 4)\n",
      "Tamanho da Série i/o depois do trim: (720, 30, 4)\n",
      "Tamanho da Série i/o antes do trim: (730,)\n",
      "Tamanho da Série i/o depois do trim: (720,)\n",
      "WARNING:tensorflow:From /Users/arodrigues/opt/miniconda3/envs/gpu/lib/python3.7/site-packages/tensorflow/python/ops/math_ops.py:3066: to_int32 (from tensorflow.python.ops.math_ops) is deprecated and will be removed in a future version.\n",
      "Instructions for updating:\n",
      "Use tf.cast instead.\n",
      "Train on 1460 samples, validate on 720 samples\n",
      "Epoch 1/300\n",
      "1460/1460 [==============================] - 13s 9ms/step - loss: 0.0166 - val_loss: 0.0292\n",
      "\n",
      "Epoch 00001: val_loss improved from inf to 0.02917, saving model to best_model_v05.h5\n",
      "Epoch 2/300\n",
      "1460/1460 [==============================] - 11s 8ms/step - loss: 0.0186 - val_loss: 0.0209\n",
      "\n",
      "Epoch 00002: val_loss improved from 0.02917 to 0.02086, saving model to best_model_v05.h5\n",
      "Epoch 3/300\n",
      "1460/1460 [==============================] - 9s 6ms/step - loss: 0.0134 - val_loss: 0.0168\n",
      "\n",
      "Epoch 00003: val_loss improved from 0.02086 to 0.01681, saving model to best_model_v05.h5\n",
      "Epoch 4/300\n",
      "1460/1460 [==============================] - 9s 6ms/step - loss: 0.0111 - val_loss: 0.0161\n",
      "\n",
      "Epoch 00004: val_loss improved from 0.01681 to 0.01605, saving model to best_model_v05.h5\n",
      "Epoch 5/300\n",
      "1460/1460 [==============================] - 9s 6ms/step - loss: 0.0095 - val_loss: 0.0149\n",
      "\n",
      "Epoch 00005: val_loss improved from 0.01605 to 0.01494, saving model to best_model_v05.h5\n",
      "Epoch 6/300\n",
      "1460/1460 [==============================] - 9s 6ms/step - loss: 0.0077 - val_loss: 0.0129\n",
      "\n",
      "Epoch 00006: val_loss improved from 0.01494 to 0.01287, saving model to best_model_v05.h5\n",
      "Epoch 7/300\n",
      "1460/1460 [==============================] - 9s 6ms/step - loss: 0.0062 - val_loss: 0.0123\n",
      "\n",
      "Epoch 00007: val_loss improved from 0.01287 to 0.01228, saving model to best_model_v05.h5\n",
      "Epoch 8/300\n",
      "1460/1460 [==============================] - 9s 6ms/step - loss: 0.0053 - val_loss: 0.0103\n",
      "\n",
      "Epoch 00008: val_loss improved from 0.01228 to 0.01029, saving model to best_model_v05.h5\n",
      "Epoch 9/300\n",
      "1460/1460 [==============================] - 9s 6ms/step - loss: 0.0046 - val_loss: 0.0075\n",
      "\n",
      "Epoch 00009: val_loss improved from 0.01029 to 0.00749, saving model to best_model_v05.h5\n",
      "Epoch 10/300\n",
      "1460/1460 [==============================] - 9s 6ms/step - loss: 0.0040 - val_loss: 0.0063\n",
      "\n",
      "Epoch 00010: val_loss improved from 0.00749 to 0.00632, saving model to best_model_v05.h5\n",
      "Epoch 11/300\n",
      "1460/1460 [==============================] - 9s 6ms/step - loss: 0.0038 - val_loss: 0.0049\n",
      "\n",
      "Epoch 00011: val_loss improved from 0.00632 to 0.00491, saving model to best_model_v05.h5\n",
      "Epoch 12/300\n",
      "1460/1460 [==============================] - 9s 6ms/step - loss: 0.0036 - val_loss: 0.0043\n",
      "\n",
      "Epoch 00012: val_loss improved from 0.00491 to 0.00426, saving model to best_model_v05.h5\n",
      "Epoch 13/300\n",
      "1460/1460 [==============================] - 9s 6ms/step - loss: 0.0036 - val_loss: 0.0037\n",
      "\n",
      "Epoch 00013: val_loss improved from 0.00426 to 0.00366, saving model to best_model_v05.h5\n",
      "Epoch 14/300\n",
      "1460/1460 [==============================] - 9s 6ms/step - loss: 0.0035 - val_loss: 0.0036\n",
      "\n",
      "Epoch 00014: val_loss improved from 0.00366 to 0.00360, saving model to best_model_v05.h5\n",
      "Epoch 15/300\n",
      "1460/1460 [==============================] - 9s 6ms/step - loss: 0.0034 - val_loss: 0.0084\n",
      "\n",
      "Epoch 00015: val_loss did not improve from 0.00360\n",
      "Epoch 16/300\n",
      "1460/1460 [==============================] - 9s 6ms/step - loss: 0.0037 - val_loss: 0.0038\n",
      "\n",
      "Epoch 00016: val_loss did not improve from 0.00360\n",
      "Epoch 17/300\n",
      "1460/1460 [==============================] - 9s 6ms/step - loss: 0.0031 - val_loss: 0.0039\n",
      "\n",
      "Epoch 00017: val_loss did not improve from 0.00360\n",
      "Epoch 18/300\n",
      "1460/1460 [==============================] - 9s 6ms/step - loss: 0.0031 - val_loss: 0.0037\n",
      "\n",
      "Epoch 00018: val_loss did not improve from 0.00360\n",
      "Epoch 19/300\n",
      "1460/1460 [==============================] - 9s 6ms/step - loss: 0.0029 - val_loss: 0.0039\n",
      "\n",
      "Epoch 00019: val_loss did not improve from 0.00360\n",
      "Epoch 20/300\n",
      "1460/1460 [==============================] - 9s 6ms/step - loss: 0.0030 - val_loss: 0.0035\n",
      "\n",
      "Epoch 00020: val_loss improved from 0.00360 to 0.00352, saving model to best_model_v05.h5\n",
      "Epoch 21/300\n",
      "1460/1460 [==============================] - 10s 7ms/step - loss: 0.0027 - val_loss: 0.0043\n",
      "\n",
      "Epoch 00021: val_loss did not improve from 0.00352\n",
      "Epoch 22/300\n",
      "1460/1460 [==============================] - 9s 6ms/step - loss: 0.0028 - val_loss: 0.0035\n",
      "\n",
      "Epoch 00022: val_loss improved from 0.00352 to 0.00347, saving model to best_model_v05.h5\n",
      "Epoch 23/300\n",
      "1460/1460 [==============================] - 10s 7ms/step - loss: 0.0026 - val_loss: 0.0046\n",
      "\n",
      "Epoch 00023: val_loss did not improve from 0.00347\n",
      "Epoch 24/300\n",
      "1460/1460 [==============================] - 10s 7ms/step - loss: 0.0028 - val_loss: 0.0042\n",
      "\n",
      "Epoch 00024: val_loss did not improve from 0.00347\n",
      "Epoch 25/300\n",
      "1460/1460 [==============================] - 10s 7ms/step - loss: 0.0027 - val_loss: 0.0050\n",
      "\n",
      "Epoch 00025: val_loss did not improve from 0.00347\n",
      "Epoch 26/300\n",
      "1460/1460 [==============================] - 10s 7ms/step - loss: 0.0027 - val_loss: 0.0034\n",
      "\n",
      "Epoch 00026: val_loss improved from 0.00347 to 0.00338, saving model to best_model_v05.h5\n",
      "Epoch 27/300\n",
      "1460/1460 [==============================] - 13s 9ms/step - loss: 0.0024 - val_loss: 0.0049\n",
      "\n",
      "Epoch 00027: val_loss did not improve from 0.00338\n",
      "Epoch 28/300\n",
      "1460/1460 [==============================] - 12s 8ms/step - loss: 0.0026 - val_loss: 0.0057\n",
      "\n",
      "Epoch 00028: val_loss did not improve from 0.00338\n",
      "Epoch 29/300\n",
      "1460/1460 [==============================] - 11s 7ms/step - loss: 0.0027 - val_loss: 0.0036\n",
      "\n",
      "Epoch 00029: val_loss did not improve from 0.00338\n",
      "Epoch 30/300\n",
      "1460/1460 [==============================] - 11s 8ms/step - loss: 0.0023 - val_loss: 0.0045\n",
      "\n",
      "Epoch 00030: val_loss did not improve from 0.00338\n",
      "Epoch 31/300\n",
      "1460/1460 [==============================] - 11s 8ms/step - loss: 0.0024 - val_loss: 0.0039\n",
      "\n",
      "Epoch 00031: val_loss did not improve from 0.00338\n",
      "Epoch 32/300\n",
      "1460/1460 [==============================] - 11s 8ms/step - loss: 0.0023 - val_loss: 0.0037\n",
      "\n",
      "Epoch 00032: val_loss did not improve from 0.00338\n",
      "Epoch 33/300\n",
      "1460/1460 [==============================] - 11s 8ms/step - loss: 0.0022 - val_loss: 0.0042\n",
      "\n",
      "Epoch 00033: val_loss did not improve from 0.00338\n",
      "Epoch 34/300\n",
      "1460/1460 [==============================] - 11s 8ms/step - loss: 0.0022 - val_loss: 0.0045\n",
      "\n",
      "Epoch 00034: val_loss did not improve from 0.00338\n",
      "Epoch 35/300\n",
      "1460/1460 [==============================] - 11s 8ms/step - loss: 0.0022 - val_loss: 0.0041\n",
      "\n",
      "Epoch 00035: val_loss did not improve from 0.00338\n",
      "Epoch 36/300\n",
      "1460/1460 [==============================] - 11s 7ms/step - loss: 0.0021 - val_loss: 0.0041\n",
      "\n",
      "Epoch 00036: val_loss did not improve from 0.00338\n",
      "Epoch 37/300\n",
      "1460/1460 [==============================] - 11s 7ms/step - loss: 0.0021 - val_loss: 0.0045\n",
      "\n",
      "Epoch 00037: val_loss did not improve from 0.00338\n",
      "Epoch 38/300\n",
      "1460/1460 [==============================] - 11s 7ms/step - loss: 0.0021 - val_loss: 0.0038\n",
      "\n",
      "Epoch 00038: val_loss did not improve from 0.00338\n",
      "Epoch 39/300\n",
      "1460/1460 [==============================] - 11s 7ms/step - loss: 0.0020 - val_loss: 0.0047\n",
      "\n",
      "Epoch 00039: val_loss did not improve from 0.00338\n",
      "Epoch 40/300\n",
      "1460/1460 [==============================] - 11s 7ms/step - loss: 0.0020 - val_loss: 0.0034\n",
      "\n",
      "Epoch 00040: val_loss improved from 0.00338 to 0.00336, saving model to best_model_v05.h5\n",
      "Epoch 41/300\n",
      "1460/1460 [==============================] - 11s 8ms/step - loss: 0.0019 - val_loss: 0.0045\n",
      "\n",
      "Epoch 00041: val_loss did not improve from 0.00336\n",
      "Epoch 42/300\n",
      "1460/1460 [==============================] - 11s 8ms/step - loss: 0.0019 - val_loss: 0.0038\n",
      "\n",
      "Epoch 00042: val_loss did not improve from 0.00336\n",
      "Epoch 43/300\n",
      "1460/1460 [==============================] - 11s 7ms/step - loss: 0.0019 - val_loss: 0.0041\n",
      "\n",
      "Epoch 00043: val_loss did not improve from 0.00336\n",
      "Epoch 44/300\n",
      "1460/1460 [==============================] - 11s 7ms/step - loss: 0.0018 - val_loss: 0.0044\n",
      "\n",
      "Epoch 00044: val_loss did not improve from 0.00336\n",
      "Epoch 45/300\n",
      "1460/1460 [==============================] - 11s 7ms/step - loss: 0.0018 - val_loss: 0.0041\n",
      "\n",
      "Epoch 00045: val_loss did not improve from 0.00336\n",
      "Epoch 46/300\n",
      "1460/1460 [==============================] - 11s 7ms/step - loss: 0.0018 - val_loss: 0.0035\n",
      "\n",
      "Epoch 00046: val_loss did not improve from 0.00336\n",
      "Epoch 47/300\n",
      "1460/1460 [==============================] - 11s 7ms/step - loss: 0.0017 - val_loss: 0.0035\n",
      "\n",
      "Epoch 00047: val_loss did not improve from 0.00336\n",
      "Epoch 48/300\n",
      "1460/1460 [==============================] - 11s 7ms/step - loss: 0.0017 - val_loss: 0.0038\n",
      "\n",
      "Epoch 00048: val_loss did not improve from 0.00336\n",
      "Epoch 49/300\n",
      "1460/1460 [==============================] - 12s 8ms/step - loss: 0.0017 - val_loss: 0.0048\n",
      "\n",
      "Epoch 00049: val_loss did not improve from 0.00336\n",
      "Epoch 50/300\n",
      "1460/1460 [==============================] - 11s 8ms/step - loss: 0.0017 - val_loss: 0.0035\n",
      "\n",
      "Epoch 00050: val_loss did not improve from 0.00336\n",
      "Epoch 51/300\n",
      "1460/1460 [==============================] - 11s 8ms/step - loss: 0.0016 - val_loss: 0.0034\n",
      "\n",
      "Epoch 00051: val_loss did not improve from 0.00336\n",
      "Epoch 52/300\n",
      "1460/1460 [==============================] - 12s 8ms/step - loss: 0.0016 - val_loss: 0.0052\n",
      "\n",
      "Epoch 00052: val_loss did not improve from 0.00336\n",
      "Epoch 53/300\n",
      "1460/1460 [==============================] - 12s 8ms/step - loss: 0.0017 - val_loss: 0.0038\n",
      "\n",
      "Epoch 00053: val_loss did not improve from 0.00336\n",
      "Epoch 54/300\n",
      "1460/1460 [==============================] - 11s 8ms/step - loss: 0.0016 - val_loss: 0.0026\n",
      "\n",
      "Epoch 00054: val_loss improved from 0.00336 to 0.00264, saving model to best_model_v05.h5\n",
      "Epoch 55/300\n",
      "1460/1460 [==============================] - 12s 8ms/step - loss: 0.0016 - val_loss: 0.0020\n",
      "\n",
      "Epoch 00055: val_loss improved from 0.00264 to 0.00203, saving model to best_model_v05.h5\n",
      "Epoch 56/300\n",
      "1460/1460 [==============================] - 11s 7ms/step - loss: 0.0015 - val_loss: 0.0025\n",
      "\n",
      "Epoch 00056: val_loss did not improve from 0.00203\n",
      "Epoch 57/300\n",
      "1460/1460 [==============================] - 11s 8ms/step - loss: 0.0017 - val_loss: 0.0069\n",
      "\n",
      "Epoch 00057: val_loss did not improve from 0.00203\n",
      "Epoch 58/300\n",
      "1460/1460 [==============================] - 11s 7ms/step - loss: 0.0018 - val_loss: 0.0068\n",
      "\n",
      "Epoch 00058: val_loss did not improve from 0.00203\n",
      "Epoch 59/300\n",
      "1460/1460 [==============================] - 11s 7ms/step - loss: 0.0018 - val_loss: 0.0053\n",
      "\n",
      "Epoch 00059: val_loss did not improve from 0.00203\n",
      "Epoch 60/300\n",
      "1460/1460 [==============================] - 11s 7ms/step - loss: 0.0018 - val_loss: 0.0037\n",
      "\n",
      "Epoch 00060: val_loss did not improve from 0.00203\n",
      "Epoch 61/300\n",
      "1460/1460 [==============================] - 11s 8ms/step - loss: 0.0016 - val_loss: 0.0034\n",
      "\n",
      "Epoch 00061: val_loss did not improve from 0.00203\n",
      "Epoch 62/300\n",
      "1460/1460 [==============================] - 11s 7ms/step - loss: 0.0015 - val_loss: 0.0039\n",
      "\n",
      "Epoch 00062: val_loss did not improve from 0.00203\n",
      "Epoch 63/300\n",
      "1460/1460 [==============================] - 11s 7ms/step - loss: 0.0016 - val_loss: 0.0038\n",
      "\n",
      "Epoch 00063: val_loss did not improve from 0.00203\n",
      "Epoch 64/300\n",
      "1460/1460 [==============================] - 11s 7ms/step - loss: 0.0016 - val_loss: 0.0037\n",
      "\n",
      "Epoch 00064: val_loss did not improve from 0.00203\n",
      "Epoch 65/300\n",
      "1460/1460 [==============================] - 11s 7ms/step - loss: 0.0015 - val_loss: 0.0021\n",
      "\n",
      "Epoch 00065: val_loss did not improve from 0.00203\n",
      "Epoch 66/300\n",
      "1460/1460 [==============================] - 11s 7ms/step - loss: 0.0014 - val_loss: 0.0030\n",
      "\n",
      "Epoch 00066: val_loss did not improve from 0.00203\n",
      "Epoch 67/300\n",
      "1460/1460 [==============================] - 11s 7ms/step - loss: 0.0015 - val_loss: 0.0032\n",
      "\n",
      "Epoch 00067: val_loss did not improve from 0.00203\n",
      "Epoch 68/300\n",
      "1460/1460 [==============================] - 11s 8ms/step - loss: 0.0014 - val_loss: 0.0029\n",
      "\n",
      "Epoch 00068: val_loss did not improve from 0.00203\n",
      "Epoch 69/300\n",
      "1460/1460 [==============================] - 11s 7ms/step - loss: 0.0014 - val_loss: 0.0020\n",
      "\n",
      "Epoch 00069: val_loss improved from 0.00203 to 0.00201, saving model to best_model_v05.h5\n",
      "Epoch 70/300\n",
      "1460/1460 [==============================] - 13s 9ms/step - loss: 0.0014 - val_loss: 0.0043\n",
      "\n",
      "Epoch 00070: val_loss did not improve from 0.00201\n",
      "Epoch 71/300\n",
      "1460/1460 [==============================] - 15s 10ms/step - loss: 0.0016 - val_loss: 0.0064\n",
      "\n",
      "Epoch 00071: val_loss did not improve from 0.00201\n",
      "Epoch 72/300\n",
      "1460/1460 [==============================] - 10s 7ms/step - loss: 0.0017 - val_loss: 0.0021\n",
      "\n",
      "Epoch 00072: val_loss did not improve from 0.00201\n",
      "Epoch 73/300\n",
      "1460/1460 [==============================] - 10s 7ms/step - loss: 0.0014 - val_loss: 0.0033\n",
      "\n",
      "Epoch 00073: val_loss did not improve from 0.00201\n",
      "Epoch 74/300\n",
      "1460/1460 [==============================] - 9s 6ms/step - loss: 0.0015 - val_loss: 0.0011\n",
      "\n",
      "Epoch 00074: val_loss improved from 0.00201 to 0.00109, saving model to best_model_v05.h5\n",
      "Epoch 75/300\n",
      "1460/1460 [==============================] - 9s 6ms/step - loss: 0.0013 - val_loss: 0.0015\n",
      "\n",
      "Epoch 00075: val_loss did not improve from 0.00109\n",
      "Epoch 76/300\n",
      "1460/1460 [==============================] - 11s 8ms/step - loss: 0.0013 - val_loss: 0.0021\n",
      "\n",
      "Epoch 00076: val_loss did not improve from 0.00109\n",
      "Epoch 77/300\n",
      "1460/1460 [==============================] - 11s 8ms/step - loss: 0.0014 - val_loss: 0.0036\n",
      "\n",
      "Epoch 00077: val_loss did not improve from 0.00109\n",
      "Epoch 78/300\n",
      "1460/1460 [==============================] - 9s 6ms/step - loss: 0.0014 - val_loss: 0.0044\n",
      "\n",
      "Epoch 00078: val_loss did not improve from 0.00109\n",
      "Epoch 79/300\n",
      "1460/1460 [==============================] - 9s 6ms/step - loss: 0.0015 - val_loss: 0.0032\n",
      "\n",
      "Epoch 00079: val_loss did not improve from 0.00109\n",
      "Epoch 80/300\n",
      "1460/1460 [==============================] - 9s 6ms/step - loss: 0.0014 - val_loss: 0.0049\n",
      "\n",
      "Epoch 00080: val_loss did not improve from 0.00109\n",
      "Epoch 81/300\n",
      "1460/1460 [==============================] - 10s 7ms/step - loss: 0.0015 - val_loss: 0.0037\n",
      "\n",
      "Epoch 00081: val_loss did not improve from 0.00109\n",
      "Epoch 82/300\n",
      "1460/1460 [==============================] - 9s 6ms/step - loss: 0.0015 - val_loss: 0.0029\n",
      "\n",
      "Epoch 00082: val_loss did not improve from 0.00109\n",
      "Epoch 83/300\n",
      "1460/1460 [==============================] - 10s 7ms/step - loss: 0.0015 - val_loss: 0.0019\n",
      "\n",
      "Epoch 00083: val_loss did not improve from 0.00109\n",
      "Epoch 84/300\n",
      "1460/1460 [==============================] - 9s 6ms/step - loss: 0.0014 - val_loss: 0.0010\n",
      "\n",
      "Epoch 00084: val_loss improved from 0.00109 to 0.00104, saving model to best_model_v05.h5\n",
      "Epoch 85/300\n",
      "1460/1460 [==============================] - 10s 7ms/step - loss: 0.0013 - val_loss: 0.0010\n",
      "\n",
      "Epoch 00085: val_loss improved from 0.00104 to 0.00103, saving model to best_model_v05.h5\n",
      "Epoch 86/300\n",
      "1460/1460 [==============================] - 10s 7ms/step - loss: 0.0013 - val_loss: 0.0012\n",
      "\n",
      "Epoch 00086: val_loss did not improve from 0.00103\n",
      "Epoch 87/300\n",
      "1460/1460 [==============================] - 10s 7ms/step - loss: 0.0014 - val_loss: 0.0011\n",
      "\n",
      "Epoch 00087: val_loss did not improve from 0.00103\n",
      "Epoch 88/300\n",
      "1460/1460 [==============================] - 10s 7ms/step - loss: 0.0013 - val_loss: 0.0012\n",
      "\n",
      "Epoch 00088: val_loss did not improve from 0.00103\n",
      "Epoch 89/300\n",
      "1460/1460 [==============================] - 10s 7ms/step - loss: 0.0013 - val_loss: 0.0023\n",
      "\n",
      "Epoch 00089: val_loss did not improve from 0.00103\n",
      "Epoch 90/300\n",
      "1460/1460 [==============================] - 10s 7ms/step - loss: 0.0013 - val_loss: 0.0027\n",
      "\n",
      "Epoch 00090: val_loss did not improve from 0.00103\n",
      "Epoch 91/300\n",
      "1460/1460 [==============================] - 10s 7ms/step - loss: 0.0013 - val_loss: 0.0027\n",
      "\n",
      "Epoch 00091: val_loss did not improve from 0.00103\n",
      "Epoch 92/300\n",
      "1460/1460 [==============================] - 9s 6ms/step - loss: 0.0013 - val_loss: 0.0029\n",
      "\n",
      "Epoch 00092: val_loss did not improve from 0.00103\n",
      "Epoch 93/300\n",
      "1460/1460 [==============================] - 10s 7ms/step - loss: 0.0013 - val_loss: 0.0026\n",
      "\n",
      "Epoch 00093: val_loss did not improve from 0.00103\n",
      "Epoch 94/300\n",
      "1460/1460 [==============================] - 10s 7ms/step - loss: 0.0014 - val_loss: 0.0023\n",
      "\n",
      "Epoch 00094: val_loss did not improve from 0.00103\n",
      "Epoch 95/300\n",
      "1460/1460 [==============================] - 10s 7ms/step - loss: 0.0013 - val_loss: 0.0034\n",
      "\n",
      "Epoch 00095: val_loss did not improve from 0.00103\n",
      "Epoch 96/300\n",
      "1460/1460 [==============================] - 9s 6ms/step - loss: 0.0013 - val_loss: 0.0030\n",
      "\n",
      "Epoch 00096: val_loss did not improve from 0.00103\n",
      "Epoch 97/300\n",
      "1460/1460 [==============================] - 10s 7ms/step - loss: 0.0013 - val_loss: 0.0029\n",
      "\n",
      "Epoch 00097: val_loss did not improve from 0.00103\n",
      "Epoch 98/300\n",
      "1460/1460 [==============================] - 10s 7ms/step - loss: 0.0013 - val_loss: 0.0015\n",
      "\n",
      "Epoch 00098: val_loss did not improve from 0.00103\n",
      "Epoch 99/300\n",
      "1460/1460 [==============================] - 10s 7ms/step - loss: 0.0012 - val_loss: 0.0018\n",
      "\n",
      "Epoch 00099: val_loss did not improve from 0.00103\n",
      "Epoch 100/300\n",
      "1460/1460 [==============================] - 10s 7ms/step - loss: 0.0013 - val_loss: 0.0017\n",
      "\n",
      "Epoch 00100: val_loss did not improve from 0.00103\n",
      "Epoch 101/300\n",
      "1460/1460 [==============================] - 10s 7ms/step - loss: 0.0013 - val_loss: 0.0019\n",
      "\n",
      "Epoch 00101: val_loss did not improve from 0.00103\n",
      "Epoch 102/300\n",
      "1460/1460 [==============================] - 10s 7ms/step - loss: 0.0013 - val_loss: 0.0018\n",
      "\n",
      "Epoch 00102: val_loss did not improve from 0.00103\n",
      "Epoch 103/300\n",
      "1460/1460 [==============================] - 10s 7ms/step - loss: 0.0013 - val_loss: 0.0027\n",
      "\n",
      "Epoch 00103: val_loss did not improve from 0.00103\n",
      "Epoch 104/300\n",
      "1460/1460 [==============================] - 10s 7ms/step - loss: 0.0013 - val_loss: 0.0026\n",
      "\n",
      "Epoch 00104: val_loss did not improve from 0.00103\n",
      "Epoch 105/300\n",
      "1460/1460 [==============================] - 10s 7ms/step - loss: 0.0013 - val_loss: 0.0030\n",
      "\n",
      "Epoch 00105: val_loss did not improve from 0.00103\n",
      "Epoch 106/300\n",
      "1460/1460 [==============================] - 10s 7ms/step - loss: 0.0014 - val_loss: 0.0010\n",
      "\n",
      "Epoch 00106: val_loss did not improve from 0.00103\n",
      "Epoch 107/300\n",
      "1460/1460 [==============================] - 10s 7ms/step - loss: 0.0013 - val_loss: 0.0012\n",
      "\n",
      "Epoch 00107: val_loss did not improve from 0.00103\n",
      "Epoch 108/300\n",
      "1460/1460 [==============================] - 10s 7ms/step - loss: 0.0012 - val_loss: 0.0014\n",
      "\n",
      "Epoch 00108: val_loss did not improve from 0.00103\n",
      "Epoch 109/300\n",
      "1460/1460 [==============================] - 10s 7ms/step - loss: 0.0014 - val_loss: 0.0033\n",
      "\n",
      "Epoch 00109: val_loss did not improve from 0.00103\n",
      "Epoch 110/300\n",
      "1460/1460 [==============================] - 11s 7ms/step - loss: 0.0013 - val_loss: 0.0024\n",
      "\n",
      "Epoch 00110: val_loss did not improve from 0.00103\n",
      "Epoch 111/300\n",
      "1460/1460 [==============================] - 10s 7ms/step - loss: 0.0014 - val_loss: 0.0051\n",
      "\n",
      "Epoch 00111: val_loss did not improve from 0.00103\n",
      "Epoch 112/300\n",
      "1460/1460 [==============================] - 10s 7ms/step - loss: 0.0014 - val_loss: 0.0022\n",
      "\n",
      "Epoch 00112: val_loss did not improve from 0.00103\n",
      "Epoch 113/300\n",
      "1460/1460 [==============================] - 10s 7ms/step - loss: 0.0013 - val_loss: 0.0019\n",
      "\n",
      "Epoch 00113: val_loss did not improve from 0.00103\n",
      "Epoch 114/300\n",
      "1460/1460 [==============================] - 10s 7ms/step - loss: 0.0013 - val_loss: 0.0010\n",
      "\n",
      "Epoch 00114: val_loss improved from 0.00103 to 0.00101, saving model to best_model_v05.h5\n",
      "Epoch 00114: early stopping\n"
     ]
    }
   ],
   "source": [
    "history = model.fit(\n",
    "    x_t\n",
    "    , y_t\n",
    "    , epochs=EPOCHS\n",
    "    , verbose=1\n",
    "    , batch_size=BATCH_SIZE\n",
    "    ,shuffle=False\n",
    "    ,validation_data=(trim_dataset(x_val, BATCH_SIZE),trim_dataset(y_val, BATCH_SIZE))\n",
    "    ,callbacks=[es, mcp]\n",
    ")"
   ]
  },
  {
   "cell_type": "code",
   "execution_count": null,
   "metadata": {
    "colab": {},
    "colab_type": "code",
    "id": "yfo-L0UQCJBo",
    "outputId": "f550d5ff-9f15-4546-a4ab-1ba21be655a6"
   },
   "outputs": [
    {
     "name": "stdout",
     "output_type": "stream",
     "text": [
      "Tamanho da Série i/o antes do trim: (730, 30, 4)\n",
      "Tamanho da Série i/o depois do trim: (720, 30, 4)\n",
      "Tamanho da Série i/o antes do trim: (730,)\n",
      "Tamanho da Série i/o depois do trim: (720,)\n",
      "Erro  0.0014001500717974167 (720,) (720,)\n",
      "[0.25775456 0.25846612 0.25201112 0.254244   0.27478033 0.28668696\n",
      " 0.30192098 0.31408054 0.3174157  0.32209298 0.32024157 0.33293352\n",
      " 0.33250517 0.32467335 0.32616517]\n",
      "[0.2492212  0.24065422 0.24065422 0.26479753 0.27959504 0.30685361\n",
      " 0.30685361 0.3115265  0.31931467 0.30919006 0.34345797 0.31386295\n",
      " 0.31074769 0.31775703 0.31074769]\n"
     ]
    }
   ],
   "source": [
    "# model.evaluate(x_test_t, y_test_t, batch_size=BATCH_SIZE\n",
    "y_pred = model.predict(trim_dataset(x_test_t, BATCH_SIZE), batch_size=BATCH_SIZE)\n",
    "y_pred = y_pred.flatten()\n",
    "y_test_t = trim_dataset(y_test_t, BATCH_SIZE)\n",
    "error = mean_squared_error(y_test_t, y_pred)\n",
    "print(\"Erro \", error, y_pred.shape, y_test_t.shape)\n",
    "print(y_pred[0:15])\n",
    "print(y_test_t[0:15])"
   ]
  },
  {
   "cell_type": "code",
   "execution_count": null,
   "metadata": {
    "colab": {},
    "colab_type": "code",
    "id": "jDhsETYYCJBq",
    "outputId": "b249a0b2-55cb-4a84-82f1-c19ae0524dd6"
   },
   "outputs": [
    {
     "name": "stdout",
     "output_type": "stream",
     "text": [
      "[20.180464 20.185324 20.141235 20.156487 20.29675  20.378073 20.48212\n",
      " 20.56517  20.58795  20.619896 20.60725  20.693935 20.69101  20.63752\n",
      " 20.647709]\n",
      "[20.12218082 20.06366835 20.06366835 20.22856712 20.32963411 20.51581013\n",
      " 20.51581013 20.54772602 20.60091917 20.53176808 20.76581794 20.56368397\n",
      " 20.54240671 20.59028054 20.54240671]\n"
     ]
    }
   ],
   "source": [
    "# convert the predicted value to range of real data\n",
    "y_pred_org = (y_pred * scaler.data_range_[3]) + scaler.data_min_[3]\n",
    "#y_pred_org =  min_max_scaler.inverse_transform(y_pred)\n",
    "y_test_t_org = (y_test_t * scaler.data_range_[3]) + scaler.data_min_[3]\n",
    "#y_test_t_org = min_max_scaler.inverse_transform(y_test_t)\n",
    "\n",
    "print(y_pred_org[0:15])\n",
    "print(y_test_t_org[0:15])"
   ]
  },
  {
   "cell_type": "markdown",
   "metadata": {},
   "source": [
    "### d) Visualizando as perdas dos conjuntos de treino e teste durante o fit"
   ]
  },
  {
   "cell_type": "code",
   "execution_count": null,
   "metadata": {
    "colab": {},
    "colab_type": "code",
    "id": "Uk52xCVGCJBs",
    "outputId": "5fbc5762-3775-4a55-bf42-b13e902807c8"
   },
   "outputs": [
    {
     "data": {
      "image/png": "[encoded data removed]",
      "text/plain": [
       "<Figure size 432x288 with 1 Axes>"
      ]
     },
     "metadata": {
      "needs_background": "light",
      "tags": []
     },
     "output_type": "display_data"
    }
   ],
   "source": [
    "# Visualize the training data\n",
    "plt.figure()\n",
    "plt.plot(history.history['loss'])\n",
    "plt.plot(history.history['val_loss'])\n",
    "plt.title('Model loss')\n",
    "plt.ylabel('Loss')\n",
    "plt.xlabel('Epoch')\n",
    "plt.legend(['Train', 'Test'], loc='upper left')\n",
    "plt.show()"
   ]
  },
  {
   "cell_type": "code",
   "execution_count": null,
   "metadata": {
    "colab": {},
    "colab_type": "code",
    "id": "NzDH4DgFCJBu",
    "outputId": "ff36adde-00e3-49fc-8ae5-1a5c5d5a65ad"
   },
   "outputs": [
    {
     "name": "stdout",
     "output_type": "stream",
     "text": [
      "<keras.engine.sequential.Sequential object at 0x10ef76290>\n"
     ]
    }
   ],
   "source": [
    "# load the saved best model from above\n",
    "saved_model = load_model( 'best_model_v05.h5') \n",
    "print(saved_model)"
   ]
  },
  {
   "cell_type": "markdown",
   "metadata": {},
   "source": [
    "## 4) Gerando as predições e comparando com os dados de treino e teste"
   ]
  },
  {
   "cell_type": "markdown",
   "metadata": {},
   "source": [
    "### a) Predição com os dados de treino"
   ]
  },
  {
   "cell_type": "code",
   "execution_count": null,
   "metadata": {
    "colab": {},
    "colab_type": "code",
    "id": "JV_-UmMiCJBw",
    "outputId": "ffedf500-c597-4b48-de9a-3559e5dfce90"
   },
   "outputs": [
    {
     "name": "stdout",
     "output_type": "stream",
     "text": [
      "Tamanho da Série i/o antes do trim: (1460, 30, 4)\n",
      "Tamanho da Série i/o depois do trim: (1460, 30, 4)\n"
     ]
    }
   ],
   "source": [
    "y_pred_train = saved_model.predict(trim_dataset(x_t, BATCH_SIZE), batch_size=BATCH_SIZE)"
   ]
  },
  {
   "cell_type": "code",
   "execution_count": null,
   "metadata": {
    "colab": {},
    "colab_type": "code",
    "id": "xvOC1w3QCJBy"
   },
   "outputs": [],
   "source": [
    "y_pred_train =y_pred_train.flatten()\n",
    "y_pred_train_plot = (y_pred_train * scaler.data_range_[3]) + scaler.data_min_[3]\n",
    "y_train_plot = (y_t * scaler.data_range_[3]) + scaler.data_min_[3]"
   ]
  },
  {
   "cell_type": "code",
   "execution_count": null,
   "metadata": {
    "colab": {},
    "colab_type": "code",
    "id": "WsdX8lx2CJBz",
    "outputId": "a9efcacb-15a7-4bc4-8d04-a2b9518b8c3b"
   },
   "outputs": [
    {
     "data": {
      "image/png": "[encoded data removed]",
      "text/plain": [
       "<Figure size 432x288 with 1 Axes>"
      ]
     },
     "metadata": {
      "needs_background": "light",
      "tags": []
     },
     "output_type": "display_data"
    }
   ],
   "source": [
    "plt.figure()\n",
    "plt.plot(y_pred_train_plot)\n",
    "plt.plot(y_train_plot)\n",
    "plt.title('Prediction vs Real Stock Price - Training')\n",
    "plt.ylabel('Price')\n",
    "plt.xlabel('Days')\n",
    "plt.legend(['Prediction', 'Real'], loc='upper left') \n",
    "plt.show()"
   ]
  },
  {
   "cell_type": "markdown",
   "metadata": {},
   "source": [
    "### b) Predição com os dados de teste"
   ]
  },
  {
   "cell_type": "code",
   "execution_count": null,
   "metadata": {
    "colab": {},
    "colab_type": "code",
    "id": "-Ey_alq6CJB0",
    "outputId": "5146f230-efc9-4c71-c408-be4d6694e926"
   },
   "outputs": [
    {
     "name": "stdout",
     "output_type": "stream",
     "text": [
      "Tamanho da Série i/o antes do trim: (730, 30, 4)\n",
      "Tamanho da Série i/o depois do trim: (720, 30, 4)\n",
      "Tamanho da Série i/o antes do trim: (720,)\n",
      "Tamanho da Série i/o depois do trim: (720,)\n",
      "\n",
      " Error is 0.0014001500717974167 (720,) (720,) \n",
      "\n",
      "[0.25775456 0.25846612 0.25201112 0.254244   0.27478033 0.28668696\n",
      " 0.30192098 0.31408054 0.3174157  0.32209298 0.32024157 0.33293352\n",
      " 0.33250517 0.32467335 0.32616517]\n",
      "[0.2492212  0.24065422 0.24065422 0.26479753 0.27959504 0.30685361\n",
      " 0.30685361 0.3115265  0.31931467 0.30919006 0.34345797 0.31386295\n",
      " 0.31074769 0.31775703 0.31074769]\n"
     ]
    }
   ],
   "source": [
    "y_pred_test = saved_model.predict(trim_dataset(x_test_t, BATCH_SIZE), batch_size=BATCH_SIZE)\n",
    "y_pred_test = y_pred.flatten()\n",
    "y_test_t = trim_dataset(y_test_t, BATCH_SIZE)\n",
    "error = mean_squared_error(y_test_t, y_pred_test)\n",
    "print(\"\\n Error is\", error, y_pred_test.shape, y_test_t.shape, \"\\n\")\n",
    "print(y_pred_test[0:15])\n",
    "print(y_test_t[0:15])"
   ]
  },
  {
   "cell_type": "code",
   "execution_count": null,
   "metadata": {
    "colab": {},
    "colab_type": "code",
    "id": "KvBRcf_2CJB2",
    "outputId": "6ad9c7a1-97bd-4f92-cc4c-758b4f8b3193"
   },
   "outputs": [
    {
     "name": "stdout",
     "output_type": "stream",
     "text": [
      "[20.180464 20.185324 20.141235 20.156487 20.29675  20.378073 20.48212\n",
      " 20.56517  20.58795  20.619896 20.60725  20.693935 20.69101  20.63752\n",
      " 20.647709]\n",
      "[20.12218082 20.06366835 20.06366835 20.22856712 20.32963411 20.51581013\n",
      " 20.51581013 20.54772602 20.60091917 20.53176808 20.76581794 20.56368397\n",
      " 20.54240671 20.59028054 20.54240671]\n"
     ]
    }
   ],
   "source": [
    "y_pred_test_plot = (y_pred_test * scaler.data_range_[3]) + scaler.data_min_[3]\n",
    "y_test_plot = (y_test_t * scaler.data_range_[3]) + scaler.data_min_[3]\n",
    "\n",
    "print(y_pred_test_plot[0:15])\n",
    "print(y_test_plot[0:15])"
   ]
  },
  {
   "cell_type": "code",
   "execution_count": null,
   "metadata": {
    "colab": {},
    "colab_type": "code",
    "id": "5nWiBkB0CJB4"
   },
   "outputs": [],
   "source": [
    "def print_time(text, stime):\n",
    "    seconds = (time.time()-stime)\n",
    "    print(text, seconds//60,\"minutes : \",np.round(seconds%60),\"seconds\")"
   ]
  },
  {
   "cell_type": "code",
   "execution_count": null,
   "metadata": {
    "colab": {},
    "colab_type": "code",
    "id": "cu6lPyJdCJB6"
   },
   "outputs": [],
   "source": [
    "stime = time.time()"
   ]
  },
  {
   "cell_type": "code",
   "execution_count": null,
   "metadata": {
    "colab": {},
    "colab_type": "code",
    "id": "GhAWKADICJB7",
    "outputId": "1a346a31-3fbb-4888-ccd7-bf8469d501ce"
   },
   "outputs": [
    {
     "name": "stdout",
     "output_type": "stream",
     "text": [
      "Término  0.0 minutes :  1.0 seconds\n"
     ]
    },
    {
     "data": {
      "image/png": "[encoded data removed]",
      "text/plain": [
       "<Figure size 432x288 with 1 Axes>"
      ]
     },
     "metadata": {
      "needs_background": "light",
      "tags": []
     },
     "output_type": "display_data"
    }
   ],
   "source": [
    "# Visualize the prediction\n",
    "plt.figure()\n",
    "plt.plot(y_pred_test_plot)\n",
    "plt.plot(y_test_plot)\n",
    "plt.title('Prediction vs Real Stock Price - Test')\n",
    "plt.ylabel('Price')\n",
    "plt.xlabel('Days')\n",
    "plt.legend(['Prediction', 'Real'], loc='upper left')\n",
    "#plt.show()\n",
    "\n",
    "print_time(\"Término \", stime)"
   ]
  },
  {
   "cell_type": "code",
   "execution_count": null,
   "metadata": {
    "colab": {},
    "colab_type": "code",
    "id": "z_6Y4MwmCJB8"
   },
   "outputs": [],
   "source": []
  },
  {
   "cell_type": "markdown",
   "metadata": {
    "colab_type": "text",
    "id": "FOpNQL1mCJB9"
   },
   "source": [
    "**References**\n",
    "\n",
    "https://machinelearningmastery.com/time-series-prediction-lstm-recurrent-neural-networks-python-keras/  \n",
    "\n",
    "https://machinelearningmastery.com/how-to-develop-lstm-models-for-time-series-forecasting/\n",
    "\n",
    "https://machinelearningmastery.com/multivariate-time-series-forecasting-lstms-keras/  \n",
    "\n",
    "https://machinelearningmastery.com/convert-time-series-supervised-learning-problem-python/  \n",
    "\n",
    "https://towardsdatascience.com/predicting-stock-price-with-lstm-13af86a74944  \n",
    "\n",
    "https://stackabuse.com/solving-sequence-problems-with-lstm-in-keras/"
   ]
  },
  {
   "cell_type": "code",
   "execution_count": null,
   "metadata": {
    "colab": {},
    "colab_type": "code",
    "id": "mVNCcMpyCJB-"
   },
   "outputs": [],
   "source": []
  }
 ],
 "metadata": {
  "colab": {
   "collapsed_sections": [],
   "name": "DL_Exercicio9_REV01.ipynb",
   "provenance": []
  },
  "kernelspec": {
   "display_name": "Python 3",
   "language": "python",
   "name": "python3"
  },
  "language_info": {
   "codemirror_mode": {
    "name": "ipython",
    "version": 3
   },
   "file_extension": ".py",
   "mimetype": "text/x-python",
   "name": "python",
   "nbconvert_exporter": "python",
   "pygments_lexer": "ipython3",
   "version": "3.7.5"
  }
 },
 "nbformat": 4,
 "nbformat_minor": 4
}
